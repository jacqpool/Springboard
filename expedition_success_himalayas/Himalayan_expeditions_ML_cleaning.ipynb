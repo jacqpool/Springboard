{
 "cells": [
  {
   "cell_type": "markdown",
   "metadata": {},
   "source": [
    "# Predicting Himalayan Expedition Success - Machine Learning\n",
    "***\n",
    "### Further Cleaning\n",
    "\n",
    "## Introduction\n",
    "\n",
    "The Himalayan Database ©, consists of records for all expeditions in the Nepal Himalayas from 1905 through 2018. The database covers expeditions to more than 450 significant peaks, including Everest, Cho Oyu and Kangchenjunga. The database is published by The Himalayan Database ©, a non-profit organization. For more information go to http://himalayandatabase.com/index.html.\n",
    "\n",
    "\n",
    "\n",
    "### Datasets\n",
    "Three datasets peaks.csv, expeditions.csv and members.csv have already been cleaned and joined into DF_Himalayas_Expeditions.csv for further visual analysis. \n",
    "\n",
    "This dataset is now loaded into a DataFrame for statistical analysis.\n",
    "\n",
    "### Outcome\n",
    "\n",
    "As a reminder, the data will be used to predict a member's success of a summitting a certain peak, during a certain time of year, with certain support mechanisms.  "
   ]
  },
  {
   "cell_type": "markdown",
   "metadata": {},
   "source": [
    "## 1. Packages and setup"
   ]
  },
  {
   "cell_type": "code",
   "execution_count": 844,
   "metadata": {
    "scrolled": true
   },
   "outputs": [],
   "source": [
    "%matplotlib inline\n",
    "import pandas as pd\n",
    "import numpy as np"
   ]
  },
  {
   "cell_type": "code",
   "execution_count": 845,
   "metadata": {
    "scrolled": true
   },
   "outputs": [],
   "source": [
    "# Set workspace\n",
    "pd.set_option('display.max_columns', 500)\n",
    "# Set output charackters to 110 (not 79)\n",
    "pd.options.display.width = 110\n",
    "# To give multiple cell output. Not just the last command.\n",
    "#InteractiveShell.ast_node_interactivity = 'last'"
   ]
  },
  {
   "cell_type": "markdown",
   "metadata": {},
   "source": [
    "## 2. Load into DataFrame & further cleaning"
   ]
  },
  {
   "cell_type": "code",
   "execution_count": 846,
   "metadata": {},
   "outputs": [
    {
     "name": "stdout",
     "output_type": "stream",
     "text": [
      "Shape: (65315, 66)\n"
     ]
    }
   ],
   "source": [
    "# Load data as 'df'\n",
    "df = pd.read_csv('DF_Himalayas_Expeditions.csv')\n",
    "print('Shape:', df.shape)"
   ]
  },
  {
   "cell_type": "code",
   "execution_count": 847,
   "metadata": {},
   "outputs": [
    {
     "data": {
      "text/plain": [
       "Index(['expid', 'peakid', 'sex', 'calcage', 'citizen', 'status', 'residence', 'occupation', 'leader',\n",
       "       'deputy', 'bconly', 'disabled', 'hired', 'sherpa', 'tibetan', 'msuccess', 'msolo', 'mtraverse',\n",
       "       'mski', 'mparapente', 'mspeed', 'mo2used', 'mo2none', 'mo2climb', 'mo2descent', 'mo2sleep',\n",
       "       'mo2medical', 'msmtterm', 'stdrte', 'year', 'season', 'host', 'route1', 'nation', 'leaders',\n",
       "       'termreason', 'traverse', 'ski', 'parapente', 'camps', 'rope', 'totmembers', 'smtmembers', 'mdeaths',\n",
       "       'tothired', 'smthired', 'hdeaths', 'nohired', 'o2used', 'o2none', 'o2climb', 'o2descent', 'o2sleep',\n",
       "       'o2medical', 'agency', 'comrte', 'xpd_success', 'smtmonth', 'heightm', 'himal', 'region', 'open',\n",
       "       'unlisted', 'phost', 'pstatus', 'pyear'],\n",
       "      dtype='object')"
      ]
     },
     "execution_count": 847,
     "metadata": {},
     "output_type": "execute_result"
    }
   ],
   "source": [
    "df.columns"
   ]
  },
  {
   "cell_type": "markdown",
   "metadata": {},
   "source": [
    "The output features not required for this model are:  \n",
    "- 'msmtterm' describes the reason for not reaching the summit. This is more descriptive output, labeled data, and cannot be used now. This can be revisited later for multiple category labels.\n",
    "- 'termreason' must be dropped for the same reason as above.\n",
    "- 'smtmembers' describes how many members in an expedition summitted. This is output information.\n",
    "- 'mdeaths' must be dropped for the same reason as above.\n",
    "- 'smthired' describes how many members that were 'hired help' summitted. This is output information.\n",
    "- 'hdeaths' describes deaths of members that were 'hired help'. This is output information.\n",
    "- 'xpd_success' describes success of the expedition. This is output information.  \n",
    "  \n",
    "Other features not required initially:\n",
    "- 'peakid'; there are 352 peaks. This makes for a large categorical set. This feature will be introduced later in the working model.\n",
    "- 'expid', or the name of the expedition is not neccesary for training.\n",
    "\n",
    "  \n",
    "These output features can be used later to train the data to answer different questions. "
   ]
  },
  {
   "cell_type": "code",
   "execution_count": 848,
   "metadata": {
    "scrolled": false
   },
   "outputs": [],
   "source": [
    "# Drop the other output features described above\n",
    "col = ['msmtterm', 'termreason', 'smtmembers', 'mdeaths', 'smthired', 'hdeaths', 'xpd_success', 'peakid', 'expid']\n",
    "df.drop(col, inplace=True, axis=1, errors='ignore')"
   ]
  },
  {
   "cell_type": "code",
   "execution_count": 849,
   "metadata": {},
   "outputs": [
    {
     "data": {
      "text/plain": [
       "(65315, 57)"
      ]
     },
     "execution_count": 849,
     "metadata": {},
     "output_type": "execute_result"
    }
   ],
   "source": [
    "df.shape"
   ]
  },
  {
   "cell_type": "code",
   "execution_count": 850,
   "metadata": {},
   "outputs": [
    {
     "data": {
      "text/html": [
       "<div>\n",
       "<style scoped>\n",
       "    .dataframe tbody tr th:only-of-type {\n",
       "        vertical-align: middle;\n",
       "    }\n",
       "\n",
       "    .dataframe tbody tr th {\n",
       "        vertical-align: top;\n",
       "    }\n",
       "\n",
       "    .dataframe thead th {\n",
       "        text-align: right;\n",
       "    }\n",
       "</style>\n",
       "<table border=\"1\" class=\"dataframe\">\n",
       "  <thead>\n",
       "    <tr style=\"text-align: right;\">\n",
       "      <th></th>\n",
       "      <th>feature</th>\n",
       "      <th>uniquevalues</th>\n",
       "    </tr>\n",
       "  </thead>\n",
       "  <tbody>\n",
       "    <tr>\n",
       "      <th>0</th>\n",
       "      <td>sex</td>\n",
       "      <td>2</td>\n",
       "    </tr>\n",
       "    <tr>\n",
       "      <th>1</th>\n",
       "      <td>calcage</td>\n",
       "      <td>77</td>\n",
       "    </tr>\n",
       "    <tr>\n",
       "      <th>2</th>\n",
       "      <td>citizen</td>\n",
       "      <td>180</td>\n",
       "    </tr>\n",
       "    <tr>\n",
       "      <th>3</th>\n",
       "      <td>status</td>\n",
       "      <td>505</td>\n",
       "    </tr>\n",
       "    <tr>\n",
       "      <th>4</th>\n",
       "      <td>residence</td>\n",
       "      <td>228</td>\n",
       "    </tr>\n",
       "    <tr>\n",
       "      <th>5</th>\n",
       "      <td>occupation</td>\n",
       "      <td>14875</td>\n",
       "    </tr>\n",
       "    <tr>\n",
       "      <th>6</th>\n",
       "      <td>route1</td>\n",
       "      <td>1292</td>\n",
       "    </tr>\n",
       "    <tr>\n",
       "      <th>7</th>\n",
       "      <td>nation</td>\n",
       "      <td>78</td>\n",
       "    </tr>\n",
       "    <tr>\n",
       "      <th>8</th>\n",
       "      <td>leaders</td>\n",
       "      <td>4993</td>\n",
       "    </tr>\n",
       "    <tr>\n",
       "      <th>9</th>\n",
       "      <td>agency</td>\n",
       "      <td>1392</td>\n",
       "    </tr>\n",
       "  </tbody>\n",
       "</table>\n",
       "</div>"
      ],
      "text/plain": [
       "      feature  uniquevalues\n",
       "0         sex             2\n",
       "1     calcage            77\n",
       "2     citizen           180\n",
       "3      status           505\n",
       "4   residence           228\n",
       "5  occupation         14875\n",
       "6      route1          1292\n",
       "7      nation            78\n",
       "8     leaders          4993\n",
       "9      agency          1392"
      ]
     },
     "execution_count": 850,
     "metadata": {},
     "output_type": "execute_result"
    }
   ],
   "source": [
    "# Review the non-binary features\n",
    "# Select the columns of non-binary features\n",
    "non_bin_cols = ['sex', 'calcage', 'citizen', 'status', 'residence', 'occupation', 'route1', \n",
    "       'nation', 'leaders', 'agency']\n",
    "\n",
    "# Show the number of unique values for each non-binary feature\n",
    "pd.DataFrame([(col, len(df[col].value_counts())) for col in non_bin_cols], columns=['feature', 'uniquevalues'])"
   ]
  },
  {
   "cell_type": "markdown",
   "metadata": {},
   "source": [
    "The number of unique values for some features are too many. For example citizen, residence and nation contain too many unique values. We will narrow this down at the cost of losing some data.  \n",
    "\n",
    "To recap:  \n",
    "Nation    - Principle nationality of the expedition.  \n",
    "Citizen   - Citizenship of member. (We can keep the top 50 countries only as that will keep 64704/65315 ~ 99% of the data)  \n",
    "Residence - Country of residence of member."
   ]
  },
  {
   "cell_type": "markdown",
   "metadata": {},
   "source": [
    "(I tried to write a function to replicate the following 3 cells, but I couldn't get it to update the DF)"
   ]
  },
  {
   "cell_type": "code",
   "execution_count": 851,
   "metadata": {},
   "outputs": [
    {
     "name": "stdout",
     "output_type": "stream",
     "text": [
      "Data points for 50 categories for citizen reducing by 0.94 %\n"
     ]
    }
   ],
   "source": [
    "# Only pick top 50 values for countries 'citizen'\n",
    "# Number of data points if we keep the top n_val appearing countries only\n",
    "perc_affected = (len(df) - df['citizen'].value_counts().values[:50].sum()) / len(df) * 100\n",
    "print('Data points for 50 categories for citizen reducing by {:0.2f}'.format(perc_affected),'%')\n",
    "# Drop the data points we don't need\n",
    "keep_values = df['citizen'].value_counts()[:50].index\n",
    "# Change these values we don't need to zero\n",
    "df['citizen'] = df['citizen'].apply(lambda x: x if x in keep_values else 0)\n",
    "df = df[df['citizen'] != 0]  "
   ]
  },
  {
   "cell_type": "code",
   "execution_count": 852,
   "metadata": {},
   "outputs": [
    {
     "name": "stdout",
     "output_type": "stream",
     "text": [
      "Data points for 50 categories for nation reducing by 0.18 %\n"
     ]
    }
   ],
   "source": [
    "# Only pick top 50 values for countries 'nation'\n",
    "# Number of data points if we keep the top n_val appearing countries only\n",
    "perc_affected = (len(df) - df['nation'].value_counts().values[:50].sum()) / len(df) * 100\n",
    "print('Data points for 50 categories for nation reducing by {:0.2f}'.format(perc_affected),'%')\n",
    "# Drop the data points we don't need\n",
    "keep_values = df['nation'].value_counts()[:50].index\n",
    "# Change these values we don't need to zero\n",
    "df['nation'] = df['nation'].apply(lambda x: x if x in keep_values else 0)\n",
    "df = df[df['nation'] != 0]  "
   ]
  },
  {
   "cell_type": "code",
   "execution_count": 853,
   "metadata": {},
   "outputs": [
    {
     "name": "stdout",
     "output_type": "stream",
     "text": [
      "Data points for 50 categories residence reducing by 1.00 %\n"
     ]
    }
   ],
   "source": [
    "# Only pick top 50 values for countries 'residence'\n",
    "# Number of data points if we keep the top n_val appearing countries only\n",
    "perc_affected = (len(df) - df['residence'].value_counts().values[:50].sum()) / len(df) * 100\n",
    "print('Data points for 50 categories residence reducing by {:0.2f}'.format(perc_affected),'%')\n",
    "# Drop the data points we don't need\n",
    "keep_values = df['residence'].value_counts()[:50].index\n",
    "# Change these values we don't need to zero\n",
    "df['residence'] = df['residence'].apply(lambda x: x if x in keep_values else 0)\n",
    "df = df[df['residence'] != 0]  "
   ]
  },
  {
   "cell_type": "code",
   "execution_count": 854,
   "metadata": {},
   "outputs": [
    {
     "name": "stdout",
     "output_type": "stream",
     "text": [
      "Data points for 40 categories for status reducing by 1.48 %\n"
     ]
    }
   ],
   "source": [
    "# Only pick top 40 values for 'status'\n",
    "# Number of data points if we keep the top n_val appearing only\n",
    "perc_affected = (len(df) - df['status'].value_counts().values[:40].sum()) / len(df) * 100\n",
    "print('Data points for 40 categories for status reducing by {:0.2f}'.format(perc_affected),'%')\n",
    "# Drop the data points we don't need\n",
    "keep_values = df['status'].value_counts()[:50].index\n",
    "# Change these values we don't need to zero\n",
    "df['status'] = df['status'].apply(lambda x: x if x in keep_values else 0)\n",
    "df = df[df['status'] != 0]  "
   ]
  },
  {
   "cell_type": "code",
   "execution_count": 855,
   "metadata": {},
   "outputs": [
    {
     "name": "stdout",
     "output_type": "stream",
     "text": [
      "Data points for 500 categories for occupation reducing by 49.57 %\n"
     ]
    }
   ],
   "source": [
    "# Only pick top n values for 'occupation'\n",
    "# Number of data points if we keep the top n_val appearing only\n",
    "perc_affected = (len(df) - df['occupation'].value_counts().values[:500].sum()) / len(df) * 100\n",
    "print('Data points for 500 categories for occupation reducing by {:0.2f}'.format(perc_affected),'%')\n",
    "\n",
    "# Drop 'occupation'. See explanation below\n",
    "df.drop('occupation', inplace=True, axis=1, errors='ignore')"
   ]
  },
  {
   "cell_type": "markdown",
   "metadata": {},
   "source": [
    "There are too many categories for 'occupation' as it is. Even if 500 categories are selected, we still lose 50% of the data. This feature will be revisited with NLTK later. For now it will be dropped, unfortunately."
   ]
  },
  {
   "cell_type": "code",
   "execution_count": 856,
   "metadata": {},
   "outputs": [
    {
     "name": "stdout",
     "output_type": "stream",
     "text": [
      "Data points for 50 categories for route1 reducing by 19.73 %\n"
     ]
    }
   ],
   "source": [
    "# Only pick top 50 values for 'route1'\n",
    "# Number of data points if we keep the top n_val appearing only\n",
    "perc_affected = (len(df) - df['route1'].value_counts().values[:50].sum()) / len(df) * 100\n",
    "print('Data points for 50 categories for route1 reducing by {:0.2f}'.format(perc_affected),'%')\n",
    "\n",
    "# Drop 'route1'. See explanation below\n",
    "df.drop('route1', inplace=True, axis=1, errors='ignore')"
   ]
  },
  {
   "cell_type": "markdown",
   "metadata": {},
   "source": [
    "There are too many categories for 'route1' as it is. For now it will be dropped, unfortunately."
   ]
  },
  {
   "cell_type": "code",
   "execution_count": 857,
   "metadata": {},
   "outputs": [
    {
     "name": "stdout",
     "output_type": "stream",
     "text": [
      "Data points for 500 categories for leaders reducing by 53.23 %\n"
     ]
    }
   ],
   "source": [
    "# Only pick top 500 values for 'leaders'\n",
    "# Number of data points if we keep the top n_val appearing only\n",
    "perc_affected = (len(df) - df['leaders'].value_counts().values[:500].sum()) / len(df) * 100\n",
    "print('Data points for 500 categories for leaders reducing by {:0.2f}'.format(perc_affected),'%')\n",
    "\n",
    "# Drop 'leaders'. See explanation below\n",
    "df.drop('leaders', inplace=True, axis=1, errors='ignore')"
   ]
  },
  {
   "cell_type": "markdown",
   "metadata": {},
   "source": [
    "There are too many categories for 'leaders' as it is. For now it will be dropped, unfortunately."
   ]
  },
  {
   "cell_type": "code",
   "execution_count": 858,
   "metadata": {},
   "outputs": [
    {
     "name": "stdout",
     "output_type": "stream",
     "text": [
      "Data points for 100 categories for agency reducing by 30.24 %\n"
     ]
    }
   ],
   "source": [
    "# Only pick top 100 values for 'agency'\n",
    "# Number of data points if we keep the top n_val appearing only\n",
    "perc_affected = (len(df) - df['agency'].value_counts().values[:100].sum()) / len(df) * 100\n",
    "print('Data points for 100 categories for agency reducing by {:0.2f}'.format(perc_affected),'%')\n",
    "\n",
    "# Drop 'agency'. See explanation below\n",
    "df.drop('agency', inplace=True, axis=1, errors='ignore')"
   ]
  },
  {
   "cell_type": "markdown",
   "metadata": {},
   "source": [
    "There are too many categories for 'agency' as it is. For now it will be dropped, for the first model attempt, but will be reintroduced."
   ]
  },
  {
   "cell_type": "raw",
   "metadata": {},
   "source": [
    "For the first model, only use 'nation'. Drop 'citizen' and 'residence' for now. These features can be introduced later into a working model."
   ]
  },
  {
   "cell_type": "code",
   "execution_count": 859,
   "metadata": {},
   "outputs": [],
   "source": [
    "df.drop(['citizen', 'residence'], inplace=True, axis=1)"
   ]
  },
  {
   "cell_type": "code",
   "execution_count": 860,
   "metadata": {},
   "outputs": [
    {
     "data": {
      "text/html": [
       "<div>\n",
       "<style scoped>\n",
       "    .dataframe tbody tr th:only-of-type {\n",
       "        vertical-align: middle;\n",
       "    }\n",
       "\n",
       "    .dataframe tbody tr th {\n",
       "        vertical-align: top;\n",
       "    }\n",
       "\n",
       "    .dataframe thead th {\n",
       "        text-align: right;\n",
       "    }\n",
       "</style>\n",
       "<table border=\"1\" class=\"dataframe\">\n",
       "  <thead>\n",
       "    <tr style=\"text-align: right;\">\n",
       "      <th></th>\n",
       "      <th>feature</th>\n",
       "      <th>uniquevalues</th>\n",
       "    </tr>\n",
       "  </thead>\n",
       "  <tbody>\n",
       "    <tr>\n",
       "      <th>0</th>\n",
       "      <td>sex</td>\n",
       "      <td>2</td>\n",
       "    </tr>\n",
       "    <tr>\n",
       "      <th>1</th>\n",
       "      <td>calcage</td>\n",
       "      <td>77</td>\n",
       "    </tr>\n",
       "    <tr>\n",
       "      <th>2</th>\n",
       "      <td>status</td>\n",
       "      <td>50</td>\n",
       "    </tr>\n",
       "    <tr>\n",
       "      <th>3</th>\n",
       "      <td>nation</td>\n",
       "      <td>50</td>\n",
       "    </tr>\n",
       "  </tbody>\n",
       "</table>\n",
       "</div>"
      ],
      "text/plain": [
       "   feature  uniquevalues\n",
       "0      sex             2\n",
       "1  calcage            77\n",
       "2   status            50\n",
       "3   nation            50"
      ]
     },
     "execution_count": 860,
     "metadata": {},
     "output_type": "execute_result"
    }
   ],
   "source": [
    "# Now review the non-binary features again\n",
    "# Select the columns of non-binary features\n",
    "non_bin_cols = ['sex', 'calcage', 'status', 'nation']\n",
    "\n",
    "# Show the number of unique values for each non-binary feature\n",
    "pd.DataFrame([(col, len(df[col].value_counts())) for col in non_bin_cols], columns=['feature', 'uniquevalues'])"
   ]
  },
  {
   "cell_type": "markdown",
   "metadata": {},
   "source": [
    "Now the remaining features need to be adapted. For the following features:  \n",
    "- sex: Convert male/female to a value 1, if male, 0 if female.\n",
    "- calcage: Stays the same.\n",
    "- status and nation: Apply pd.get_dummies()"
   ]
  },
  {
   "cell_type": "code",
   "execution_count": 861,
   "metadata": {},
   "outputs": [
    {
     "name": "stdout",
     "output_type": "stream",
     "text": [
      "M    57535\n",
      "F     5579\n",
      "Name: sex, dtype: int64\n",
      "1    57535\n",
      "0     5579\n",
      "Name: sex_male, dtype: int64\n"
     ]
    }
   ],
   "source": [
    "# Adapt 'sex' to new binary feature 'sex_male'\n",
    "print(df.sex.value_counts())\n",
    "df['sex_male'] = df['sex'].apply(lambda x: 1 if x == 'M' else 0)\n",
    "print(df['sex_male'].value_counts())\n",
    "# Drop 'sex'\n",
    "df.drop('sex', inplace=True, axis=1)"
   ]
  },
  {
   "cell_type": "markdown",
   "metadata": {},
   "source": [
    "## 3. Convert cyclical features"
   ]
  },
  {
   "cell_type": "markdown",
   "metadata": {},
   "source": [
    "There are 2 features that need t be converted to compensate for it's cyclical nature. 'smtmonth' and 'season'."
   ]
  },
  {
   "cell_type": "markdown",
   "metadata": {},
   "source": [
    "### 3.1 Summit month"
   ]
  },
  {
   "cell_type": "code",
   "execution_count": 862,
   "metadata": {
    "scrolled": true
   },
   "outputs": [
    {
     "data": {
      "text/plain": [
       "<matplotlib.axes._subplots.AxesSubplot at 0x19336ee6d30>"
      ]
     },
     "execution_count": 862,
     "metadata": {},
     "output_type": "execute_result"
    },
    {
     "data": {
      "image/png": "[encoded data removed]",
      "text/plain": [
       "<Figure size 432x288 with 1 Axes>"
      ]
     },
     "metadata": {
      "needs_background": "light"
     },
     "output_type": "display_data"
    }
   ],
   "source": [
    "# Review 'smtmonth' distribution\n",
    "df['smtmonth'].value_counts().sort_index().plot(kind='bar')"
   ]
  },
  {
   "cell_type": "markdown",
   "metadata": {},
   "source": [
    "The graph below represent the cyclical nature of the month of the year. "
   ]
  },
  {
   "cell_type": "code",
   "execution_count": 863,
   "metadata": {},
   "outputs": [
    {
     "data": {
      "image/png": "[encoded data removed]",
      "text/plain": [
       "<Figure size 432x288 with 1 Axes>"
      ]
     },
     "metadata": {
      "needs_background": "light"
     },
     "output_type": "display_data"
    }
   ],
   "source": [
    "# Monthly range from 1 - 12 ('x1')\n",
    "x1 = np.arange(1, 13)\n",
    "\n",
    "# Scale: Adjusted trig range 0 - 2.pi ('x2')\n",
    "x2 = (1/6)*np.pi*(x1 - 1)\n",
    "\n",
    "# Adjusted sine function to approcimate the anual cycle\n",
    "y = lambda x: 1/2 * (np.sin((x-np.pi/2)) + 1)\n",
    "\n",
    "# Plot\n",
    "_ = plt.plot(x2, y(x2))\n",
    "_ = plt.xticks(x2, np.arange(1,13))\n",
    "_ = plt.title('Cyclical monthly distribution (Jan - Dec)')\n",
    "_ = plt.xlabel('Month')\n",
    "_ = plt.ylabel('Scaled value from (0 - 1)')"
   ]
  },
  {
   "cell_type": "markdown",
   "metadata": {},
   "source": [
    "Note: January and December does not, and should not, overlap. So the month 1 and month 13, if there was one, will have the same scaled value."
   ]
  },
  {
   "cell_type": "code",
   "execution_count": 864,
   "metadata": {},
   "outputs": [],
   "source": [
    "def scale_month_cycl(month):\n",
    "    '''Function to use in .apply to scale month value into trig equivalent'''\n",
    "\n",
    "    # Scale: Adjusted trig range 0 - 2.pi\n",
    "    x = (1/6)*np.pi*(month - 1)\n",
    "    \n",
    "    # Adjusted sine function to approcimate the anual cycle\n",
    "    y = lambda x: 1/2 * (np.sin((x-np.pi/2)) + 1)\n",
    "\n",
    "    return y(x)"
   ]
  },
  {
   "cell_type": "code",
   "execution_count": 865,
   "metadata": {},
   "outputs": [],
   "source": [
    "# Convert 'smtmonth' to cyclical\n",
    "df['smtmonth'] = df['smtmonth'].apply(lambda x: scale_month_cycl(x))"
   ]
  },
  {
   "cell_type": "code",
   "execution_count": 866,
   "metadata": {},
   "outputs": [
    {
     "data": {
      "text/plain": [
       "0.000000      456\n",
       "0.066987      136\n",
       "0.066987     1396\n",
       "0.250000      298\n",
       "0.250000     4549\n",
       "0.500000     5394\n",
       "0.500000    18484\n",
       "0.750000    23011\n",
       "0.750000     6251\n",
       "0.933013      556\n",
       "0.933013      312\n",
       "1.000000     2271\n",
       "Name: smtmonth, dtype: int64"
      ]
     },
     "execution_count": 866,
     "metadata": {},
     "output_type": "execute_result"
    }
   ],
   "source": [
    "# Review\n",
    "df['smtmonth'].value_counts().sort_index()"
   ]
  },
  {
   "cell_type": "markdown",
   "metadata": {},
   "source": [
    "### 3.2 Seaon"
   ]
  },
  {
   "cell_type": "code",
   "execution_count": 867,
   "metadata": {},
   "outputs": [
    {
     "data": {
      "text/plain": [
       "3    30241\n",
       "1    30190\n",
       "4     1993\n",
       "2      689\n",
       "0        1\n",
       "Name: season, dtype: int64"
      ]
     },
     "execution_count": 867,
     "metadata": {},
     "output_type": "execute_result"
    }
   ],
   "source": [
    "# Review 'season'\n",
    "df['season'].value_counts()"
   ]
  },
  {
   "cell_type": "code",
   "execution_count": 868,
   "metadata": {},
   "outputs": [
    {
     "data": {
      "text/plain": [
       "3    30241\n",
       "1    30190\n",
       "4     1993\n",
       "2      689\n",
       "Name: season, dtype: int64"
      ]
     },
     "execution_count": 868,
     "metadata": {},
     "output_type": "execute_result"
    }
   ],
   "source": [
    "# 1 data point has zero as a season. Delete this row\n",
    "df = df[df['season'] != 0]\n",
    "\n",
    "# Review 'season'\n",
    "df['season'].value_counts()"
   ]
  },
  {
   "cell_type": "code",
   "execution_count": 869,
   "metadata": {},
   "outputs": [],
   "source": [
    "def scale_season_cycl(season):\n",
    "    '''Function to use in .apply to scale season value into trig equivalent'''\n",
    "\n",
    "    # Scale: Adjusted trig range 0 - 2.pi\n",
    "    x = (1/2)*np.pi*(season - 1)\n",
    "    \n",
    "    # Adjusted sine function to approcimate the anual cycle\n",
    "    y = lambda x: 1/2 * (np.sin((x-np.pi/2)) + 1)\n",
    "\n",
    "    return y(x)"
   ]
  },
  {
   "cell_type": "code",
   "execution_count": 870,
   "metadata": {},
   "outputs": [],
   "source": [
    "# Convert 'smtmonth' to cyclical\n",
    "df['season'] = df['season'].apply(lambda x: scale_season_cycl(x))"
   ]
  },
  {
   "cell_type": "code",
   "execution_count": 871,
   "metadata": {},
   "outputs": [
    {
     "data": {
      "text/plain": [
       "0.0    30190\n",
       "0.5      689\n",
       "0.5     1993\n",
       "1.0    30241\n",
       "Name: season, dtype: int64"
      ]
     },
     "execution_count": 871,
     "metadata": {},
     "output_type": "execute_result"
    }
   ],
   "source": [
    "# Review\n",
    "df['season'].value_counts().sort_index()"
   ]
  },
  {
   "cell_type": "markdown",
   "metadata": {},
   "source": [
    "## 4. Convert categorical features to binary-pivot"
   ]
  },
  {
   "cell_type": "markdown",
   "metadata": {},
   "source": [
    "The 2 features 'status' and 'nation' must be converted with pd.get_dummies()"
   ]
  },
  {
   "cell_type": "code",
   "execution_count": 872,
   "metadata": {},
   "outputs": [],
   "source": [
    "df = pd.get_dummies(df, prefix=['status', 'nation'], columns=['status', 'nation'])"
   ]
  },
  {
   "cell_type": "markdown",
   "metadata": {},
   "source": [
    "## 5. Save data"
   ]
  },
  {
   "cell_type": "markdown",
   "metadata": {},
   "source": [
    "Save data to output file DF_Himalayas_Expeditions_MLready.csv."
   ]
  },
  {
   "cell_type": "code",
   "execution_count": 873,
   "metadata": {},
   "outputs": [],
   "source": [
    "# Save completed DataFrame \n",
    "df.to_csv('DF_Himalayas_Expeditions_MLready.csv', index=False)"
   ]
  }
 ],
 "metadata": {
  "kernelspec": {
   "display_name": "Python 3",
   "language": "python",
   "name": "python3"
  },
  "language_info": {
   "codemirror_mode": {
    "name": "ipython",
    "version": 3
   },
   "file_extension": ".py",
   "mimetype": "text/x-python",
   "name": "python",
   "nbconvert_exporter": "python",
   "pygments_lexer": "ipython3",
   "version": "3.7.1"
  }
 },
 "nbformat": 4,
 "nbformat_minor": 2
}
