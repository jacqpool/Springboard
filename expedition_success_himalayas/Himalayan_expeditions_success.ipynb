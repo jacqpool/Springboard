{
 "cells": [
  {
   "cell_type": "markdown",
   "metadata": {},
   "source": [
    "# Predicting Himalayan Expedition Success\n",
    "***"
   ]
  },
  {
   "cell_type": "markdown",
   "metadata": {},
   "source": [
    "## Introduction\n",
    "\n",
    "The Himalayan Database consists of records for all expeditions in the Nepal Himalayas from 1905 through 2018. The database covers expeditions to more than 450 significant peaks, including Everest, Cho Oyu and Kangchenjunga. More information can be found at http://himalayandatabase.com/index.html.\n",
    "\n",
    "### Datasets\n",
    "Two datasets are of interest: expeditions.csv and members.csv (http://himalayandatabase.com/downloads.html).\n",
    "\n",
    "###### peaks.csv\n",
    "This file contains information about each one of the more than 450 peaks, location, region, status, first ascent and more.\n",
    "\n",
    "###### expedions.csv\n",
    "This file contains information including date, peak, route, suplemantal oxygen, group size and sherpas.\n",
    "\n",
    "###### members.csv\n",
    "This file contains biographical information on each member in the expedition, including nationality, age, oxygen use, and success.\n",
    "\n",
    "### Outcome\n",
    "\n",
    "Nearly 10,000 expedition records and over 70,000 members records can then predict member success of a summitting a certain peak, during a certain time of year, with certain support mechanisms.  "
   ]
  },
  {
   "cell_type": "markdown",
   "metadata": {},
   "source": [
    "## Packages and setup"
   ]
  },
  {
   "cell_type": "code",
   "execution_count": 1,
   "metadata": {
    "scrolled": true
   },
   "outputs": [],
   "source": [
    "import pandas as pd\n",
    "import re\n",
    "from IPython.core.interactiveshell import InteractiveShell"
   ]
  },
  {
   "cell_type": "code",
   "execution_count": 2,
   "metadata": {
    "scrolled": true
   },
   "outputs": [],
   "source": [
    "# Set workspace\n",
    "\n",
    "# Set output charackters to 110 (not 79)\n",
    "pd.options.display.width = 110\n",
    "# To give multiple cell output. Not just the last command.\n",
    "InteractiveShell.ast_node_interactivity = \"all\""
   ]
  },
  {
   "cell_type": "markdown",
   "metadata": {},
   "source": [
    "## Peaks dataset cleaning"
   ]
  },
  {
   "cell_type": "code",
   "execution_count": 4,
   "metadata": {
    "scrolled": true
   },
   "outputs": [
    {
     "name": "stdout",
     "output_type": "stream",
     "text": [
      "Shape: (468, 22)\n",
      "<class 'pandas.core.frame.DataFrame'>\n",
      "RangeIndex: 468 entries, 0 to 467\n",
      "Data columns (total 22 columns):\n",
      "peakid        468 non-null object\n",
      "pkname        468 non-null object\n",
      "pkname2       238 non-null object\n",
      "location      467 non-null object\n",
      "heightm       468 non-null int64\n",
      "heightf       468 non-null int64\n",
      "himal         468 non-null int64\n",
      "region        468 non-null int64\n",
      "open          468 non-null bool\n",
      "unlisted      468 non-null bool\n",
      "trekking      468 non-null bool\n",
      "trekyear      29 non-null float64\n",
      "restrict      270 non-null object\n",
      "phost         468 non-null int64\n",
      "pstatus       468 non-null int64\n",
      "pyear         325 non-null float64\n",
      "pseason       468 non-null int64\n",
      "pexpid        322 non-null object\n",
      "psmtdate      319 non-null object\n",
      "pcountry      325 non-null object\n",
      "psummiters    460 non-null object\n",
      "psmtnote      75 non-null object\n",
      "dtypes: bool(3), float64(2), int64(7), object(10)\n",
      "memory usage: 70.9+ KB\n"
     ]
    }
   ],
   "source": [
    "# Load peaks as 'peaks_csv'\n",
    "peaks_csv = pd.read_csv('peaks.csv')\n",
    "print('Shape:', peaks_csv.shape)\n",
    "\n",
    "peaks_csv.info()"
   ]
  },
  {
   "cell_type": "markdown",
   "metadata": {},
   "source": [
    "Referring to the 'Himalayan Database Guide.pdf', the following features will not be included:\n",
    "\n",
    "pkname, pkname2 - The names of the peaks are not required for analysis, but can be inluded post-analysis.\n",
    "\n",
    "location - This field gives a long description of the expedition only. The locations are better captured with categorical data 'himal' and 'region'.\n",
    "\n",
    "heightf - Only 'heightm', the height in meters, are used.\n",
    "\n",
    "trekking, trekyear - There are only 29 non-null values. Not enough to make it significant.\n",
    "\n",
    "pseason, pexpid, psmtdate, pcountry, psummiters, psmnote - Information on the first ascent of a certain peak. Not relevant."
   ]
  },
  {
   "cell_type": "code",
   "execution_count": 105,
   "metadata": {},
   "outputs": [
    {
     "data": {
      "text/html": [
       "<div>\n",
       "<style scoped>\n",
       "    .dataframe tbody tr th:only-of-type {\n",
       "        vertical-align: middle;\n",
       "    }\n",
       "\n",
       "    .dataframe tbody tr th {\n",
       "        vertical-align: top;\n",
       "    }\n",
       "\n",
       "    .dataframe thead th {\n",
       "        text-align: right;\n",
       "    }\n",
       "</style>\n",
       "<table border=\"1\" class=\"dataframe\">\n",
       "  <thead>\n",
       "    <tr style=\"text-align: right;\">\n",
       "      <th></th>\n",
       "      <th>peakid</th>\n",
       "      <th>heightm</th>\n",
       "      <th>himal</th>\n",
       "      <th>region</th>\n",
       "      <th>open</th>\n",
       "      <th>unlisted</th>\n",
       "      <th>trekking</th>\n",
       "      <th>trekyear</th>\n",
       "      <th>restrict</th>\n",
       "      <th>phost</th>\n",
       "      <th>pstatus</th>\n",
       "      <th>pyear</th>\n",
       "    </tr>\n",
       "  </thead>\n",
       "  <tbody>\n",
       "    <tr>\n",
       "      <th>0</th>\n",
       "      <td>ACHN</td>\n",
       "      <td>6055</td>\n",
       "      <td>17</td>\n",
       "      <td>7</td>\n",
       "      <td>True</td>\n",
       "      <td>False</td>\n",
       "      <td>False</td>\n",
       "      <td>NaN</td>\n",
       "      <td>Opened in 2014</td>\n",
       "      <td>1</td>\n",
       "      <td>2</td>\n",
       "      <td>2015.0</td>\n",
       "    </tr>\n",
       "    <tr>\n",
       "      <th>1</th>\n",
       "      <td>AGLE</td>\n",
       "      <td>6675</td>\n",
       "      <td>19</td>\n",
       "      <td>2</td>\n",
       "      <td>True</td>\n",
       "      <td>False</td>\n",
       "      <td>False</td>\n",
       "      <td>NaN</td>\n",
       "      <td>Opened in 2014</td>\n",
       "      <td>1</td>\n",
       "      <td>1</td>\n",
       "      <td>NaN</td>\n",
       "    </tr>\n",
       "    <tr>\n",
       "      <th>2</th>\n",
       "      <td>AMAD</td>\n",
       "      <td>6814</td>\n",
       "      <td>12</td>\n",
       "      <td>2</td>\n",
       "      <td>True</td>\n",
       "      <td>False</td>\n",
       "      <td>False</td>\n",
       "      <td>NaN</td>\n",
       "      <td>NaN</td>\n",
       "      <td>1</td>\n",
       "      <td>2</td>\n",
       "      <td>1961.0</td>\n",
       "    </tr>\n",
       "    <tr>\n",
       "      <th>3</th>\n",
       "      <td>AMOT</td>\n",
       "      <td>6393</td>\n",
       "      <td>3</td>\n",
       "      <td>5</td>\n",
       "      <td>True</td>\n",
       "      <td>False</td>\n",
       "      <td>False</td>\n",
       "      <td>NaN</td>\n",
       "      <td>Opened in 2002</td>\n",
       "      <td>1</td>\n",
       "      <td>1</td>\n",
       "      <td>NaN</td>\n",
       "    </tr>\n",
       "    <tr>\n",
       "      <th>4</th>\n",
       "      <td>AMPG</td>\n",
       "      <td>5630</td>\n",
       "      <td>12</td>\n",
       "      <td>2</td>\n",
       "      <td>True</td>\n",
       "      <td>False</td>\n",
       "      <td>False</td>\n",
       "      <td>NaN</td>\n",
       "      <td>Opened in 2002</td>\n",
       "      <td>1</td>\n",
       "      <td>2</td>\n",
       "      <td>1953.0</td>\n",
       "    </tr>\n",
       "  </tbody>\n",
       "</table>\n",
       "</div>"
      ],
      "text/plain": [
       "  peakid  heightm  himal  region  open  unlisted  trekking  trekyear        restrict  phost  pstatus   pyear\n",
       "0   ACHN     6055     17       7  True     False     False       NaN  Opened in 2014      1        2  2015.0\n",
       "1   AGLE     6675     19       2  True     False     False       NaN  Opened in 2014      1        1     NaN\n",
       "2   AMAD     6814     12       2  True     False     False       NaN             NaN      1        2  1961.0\n",
       "3   AMOT     6393      3       5  True     False     False       NaN  Opened in 2002      1        1     NaN\n",
       "4   AMPG     5630     12       2  True     False     False       NaN  Opened in 2002      1        2  1953.0"
      ]
     },
     "execution_count": 105,
     "metadata": {},
     "output_type": "execute_result"
    },
    {
     "name": "stdout",
     "output_type": "stream",
     "text": [
      "<class 'pandas.core.frame.DataFrame'>\n",
      "RangeIndex: 468 entries, 0 to 467\n",
      "Data columns (total 12 columns):\n",
      "peakid      468 non-null object\n",
      "heightm     468 non-null int64\n",
      "himal       468 non-null int64\n",
      "region      468 non-null int64\n",
      "open        468 non-null bool\n",
      "unlisted    468 non-null bool\n",
      "trekking    468 non-null bool\n",
      "trekyear    29 non-null float64\n",
      "restrict    270 non-null object\n",
      "phost       468 non-null int64\n",
      "pstatus     468 non-null int64\n",
      "pyear       325 non-null float64\n",
      "dtypes: bool(3), float64(2), int64(5), object(2)\n",
      "memory usage: 34.4+ KB\n"
     ]
    },
    {
     "data": {
      "text/html": [
       "<div>\n",
       "<style scoped>\n",
       "    .dataframe tbody tr th:only-of-type {\n",
       "        vertical-align: middle;\n",
       "    }\n",
       "\n",
       "    .dataframe tbody tr th {\n",
       "        vertical-align: top;\n",
       "    }\n",
       "\n",
       "    .dataframe thead th {\n",
       "        text-align: right;\n",
       "    }\n",
       "</style>\n",
       "<table border=\"1\" class=\"dataframe\">\n",
       "  <thead>\n",
       "    <tr style=\"text-align: right;\">\n",
       "      <th></th>\n",
       "      <th>heightm</th>\n",
       "      <th>himal</th>\n",
       "      <th>region</th>\n",
       "      <th>trekyear</th>\n",
       "      <th>phost</th>\n",
       "      <th>pstatus</th>\n",
       "      <th>pyear</th>\n",
       "    </tr>\n",
       "  </thead>\n",
       "  <tbody>\n",
       "    <tr>\n",
       "      <th>count</th>\n",
       "      <td>468.000000</td>\n",
       "      <td>468.000000</td>\n",
       "      <td>468.000000</td>\n",
       "      <td>29.000000</td>\n",
       "      <td>468.000000</td>\n",
       "      <td>468.000000</td>\n",
       "      <td>325.000000</td>\n",
       "    </tr>\n",
       "    <tr>\n",
       "      <th>mean</th>\n",
       "      <td>6656.653846</td>\n",
       "      <td>10.258547</td>\n",
       "      <td>3.820513</td>\n",
       "      <td>1918.758621</td>\n",
       "      <td>2.126068</td>\n",
       "      <td>1.707265</td>\n",
       "      <td>1983.510769</td>\n",
       "    </tr>\n",
       "    <tr>\n",
       "      <th>std</th>\n",
       "      <td>571.898154</td>\n",
       "      <td>5.585948</td>\n",
       "      <td>2.150107</td>\n",
       "      <td>365.364168</td>\n",
       "      <td>1.514782</td>\n",
       "      <td>0.455505</td>\n",
       "      <td>23.674178</td>\n",
       "    </tr>\n",
       "    <tr>\n",
       "      <th>min</th>\n",
       "      <td>5407.000000</td>\n",
       "      <td>1.000000</td>\n",
       "      <td>1.000000</td>\n",
       "      <td>20.000000</td>\n",
       "      <td>1.000000</td>\n",
       "      <td>1.000000</td>\n",
       "      <td>1909.000000</td>\n",
       "    </tr>\n",
       "    <tr>\n",
       "      <th>25%</th>\n",
       "      <td>6235.750000</td>\n",
       "      <td>5.000000</td>\n",
       "      <td>2.000000</td>\n",
       "      <td>1978.000000</td>\n",
       "      <td>1.000000</td>\n",
       "      <td>1.000000</td>\n",
       "      <td>1963.000000</td>\n",
       "    </tr>\n",
       "    <tr>\n",
       "      <th>50%</th>\n",
       "      <td>6559.500000</td>\n",
       "      <td>11.000000</td>\n",
       "      <td>4.000000</td>\n",
       "      <td>1978.000000</td>\n",
       "      <td>1.000000</td>\n",
       "      <td>2.000000</td>\n",
       "      <td>1981.000000</td>\n",
       "    </tr>\n",
       "    <tr>\n",
       "      <th>75%</th>\n",
       "      <td>6911.000000</td>\n",
       "      <td>15.000000</td>\n",
       "      <td>6.000000</td>\n",
       "      <td>2002.000000</td>\n",
       "      <td>4.000000</td>\n",
       "      <td>2.000000</td>\n",
       "      <td>2007.000000</td>\n",
       "    </tr>\n",
       "    <tr>\n",
       "      <th>max</th>\n",
       "      <td>8850.000000</td>\n",
       "      <td>20.000000</td>\n",
       "      <td>7.000000</td>\n",
       "      <td>2002.000000</td>\n",
       "      <td>6.000000</td>\n",
       "      <td>2.000000</td>\n",
       "      <td>2018.000000</td>\n",
       "    </tr>\n",
       "  </tbody>\n",
       "</table>\n",
       "</div>"
      ],
      "text/plain": [
       "           heightm       himal      region     trekyear       phost     pstatus        pyear\n",
       "count   468.000000  468.000000  468.000000    29.000000  468.000000  468.000000   325.000000\n",
       "mean   6656.653846   10.258547    3.820513  1918.758621    2.126068    1.707265  1983.510769\n",
       "std     571.898154    5.585948    2.150107   365.364168    1.514782    0.455505    23.674178\n",
       "min    5407.000000    1.000000    1.000000    20.000000    1.000000    1.000000  1909.000000\n",
       "25%    6235.750000    5.000000    2.000000  1978.000000    1.000000    1.000000  1963.000000\n",
       "50%    6559.500000   11.000000    4.000000  1978.000000    1.000000    2.000000  1981.000000\n",
       "75%    6911.000000   15.000000    6.000000  2002.000000    4.000000    2.000000  2007.000000\n",
       "max    8850.000000   20.000000    7.000000  2002.000000    6.000000    2.000000  2018.000000"
      ]
     },
     "execution_count": 105,
     "metadata": {},
     "output_type": "execute_result"
    }
   ],
   "source": [
    "# Select only relevant peaks features \n",
    "peaks_features = ['peakid', 'heightm', 'himal', 'region','open','unlisted', 'restrict', 'phost', 'pstatus', 'pyear']\n",
    "\n",
    "# New dataframe with only selected columns\n",
    "peaks = peaks_csv[peaks_features]\n",
    "\n",
    "# Inspect the data\n",
    "peaks.head()\n",
    "peaks.info()\n",
    "peaks.describe()"
   ]
  },
  {
   "cell_type": "markdown",
   "metadata": {},
   "source": [
    "The missing values for 'restrict' will be negated when introducing 'expeditions.csv'. Example, a peak's open status ('open' = True) changes from False on year 'openyear', when the Nepal government approved the peak.\n",
    "\n",
    "In the same way 'restrict' indicates the year the 'open' status changed between closed or open, however in this case the year and open/closed inside the 'restrict' column will have to be used to create a new column indicating when the peak's status changed. If the new column, called 'openyear' contains a date (year), the 'open' value will simply switch between True/False.\n",
    "\n",
    "The missing values for column 'pyear', or the first ascent year, will be determined from 'expedition.csv' where the fist expedition date for the specific peak took place.\n",
    "\n",
    "The column 'trekyear' is type float due to the NaN values. Notice 'trekyear' has a minimum value of 20, which can't be right."
   ]
  },
  {
   "cell_type": "code",
   "execution_count": 6,
   "metadata": {
    "scrolled": true
   },
   "outputs": [
    {
     "data": {
      "text/plain": [
       "NaN       439\n",
       "1978.0     18\n",
       "2002.0     10\n",
       "20.0        1\n",
       "Name: trekyear, dtype: int64"
      ]
     },
     "execution_count": 6,
     "metadata": {},
     "output_type": "execute_result"
    }
   ],
   "source": [
    "# Inspect 'trekyear'\n",
    "peaks['trekyear'].value_counts(dropna=False)"
   ]
  },
  {
   "cell_type": "markdown",
   "metadata": {},
   "source": [
    "Referring to the one entry with year '20', if you looking at the value counts, the only other option for an entry is the year 1978, but the entry already starts with '20'. Therefore assume the entry should have been the year 2002.\n",
    "\n",
    "In any case, with only 2 years for which these entries exits, 1978 and 2002, one cannot assume that the features, 'trekking' and 'trekyear' will affect a significant difference. In addition, the Nepalese government does not include trekking peaks in their statistical reports and analysis. Therefore, 'trekking' and 'trekyear' will be ommited."
   ]
  },
  {
   "cell_type": "code",
   "execution_count": 7,
   "metadata": {
    "scrolled": true
   },
   "outputs": [
    {
     "data": {
      "text/plain": [
       "Index(['peakid', 'heightm', 'himal', 'region', 'open', 'unlisted', 'restrict', 'phost', 'pstatus', 'pyear'], dtype='object')"
      ]
     },
     "execution_count": 7,
     "metadata": {},
     "output_type": "execute_result"
    }
   ],
   "source": [
    "# Deleting columns 'trekking' and 'trekyear'.\n",
    "peaks = peaks.drop(['trekking', 'trekyear'], axis=1, errors='ignore')\n",
    "peaks.columns"
   ]
  },
  {
   "cell_type": "code",
   "execution_count": 8,
   "metadata": {
    "scrolled": true
   },
   "outputs": [
    {
     "data": {
      "text/html": [
       "<div>\n",
       "<style scoped>\n",
       "    .dataframe tbody tr th:only-of-type {\n",
       "        vertical-align: middle;\n",
       "    }\n",
       "\n",
       "    .dataframe tbody tr th {\n",
       "        vertical-align: top;\n",
       "    }\n",
       "\n",
       "    .dataframe thead th {\n",
       "        text-align: right;\n",
       "    }\n",
       "</style>\n",
       "<table border=\"1\" class=\"dataframe\">\n",
       "  <thead>\n",
       "    <tr style=\"text-align: right;\">\n",
       "      <th></th>\n",
       "      <th>open</th>\n",
       "      <th>restrict</th>\n",
       "    </tr>\n",
       "  </thead>\n",
       "  <tbody>\n",
       "    <tr>\n",
       "      <th>0</th>\n",
       "      <td>True</td>\n",
       "      <td>Opened in 2014</td>\n",
       "    </tr>\n",
       "    <tr>\n",
       "      <th>1</th>\n",
       "      <td>True</td>\n",
       "      <td>Opened in 2014</td>\n",
       "    </tr>\n",
       "    <tr>\n",
       "      <th>3</th>\n",
       "      <td>True</td>\n",
       "      <td>Opened in 2002</td>\n",
       "    </tr>\n",
       "    <tr>\n",
       "      <th>4</th>\n",
       "      <td>True</td>\n",
       "      <td>Opened in 2002</td>\n",
       "    </tr>\n",
       "    <tr>\n",
       "      <th>5</th>\n",
       "      <td>True</td>\n",
       "      <td>Opened in 2002</td>\n",
       "    </tr>\n",
       "  </tbody>\n",
       "</table>\n",
       "</div>"
      ],
      "text/plain": [
       "   open        restrict\n",
       "0  True  Opened in 2014\n",
       "1  True  Opened in 2014\n",
       "3  True  Opened in 2002\n",
       "4  True  Opened in 2002\n",
       "5  True  Opened in 2002"
      ]
     },
     "execution_count": 8,
     "metadata": {},
     "output_type": "execute_result"
    },
    {
     "data": {
      "text/html": [
       "<div>\n",
       "<style scoped>\n",
       "    .dataframe tbody tr th:only-of-type {\n",
       "        vertical-align: middle;\n",
       "    }\n",
       "\n",
       "    .dataframe tbody tr th {\n",
       "        vertical-align: top;\n",
       "    }\n",
       "\n",
       "    .dataframe thead th {\n",
       "        text-align: right;\n",
       "    }\n",
       "</style>\n",
       "<table border=\"1\" class=\"dataframe\">\n",
       "  <thead>\n",
       "    <tr style=\"text-align: right;\">\n",
       "      <th></th>\n",
       "      <th>open</th>\n",
       "      <th>restrict</th>\n",
       "    </tr>\n",
       "  </thead>\n",
       "  <tbody>\n",
       "    <tr>\n",
       "      <th>40</th>\n",
       "      <td>False</td>\n",
       "      <td>Opened in 2002 as trekking peak</td>\n",
       "    </tr>\n",
       "    <tr>\n",
       "      <th>53</th>\n",
       "      <td>False</td>\n",
       "      <td>Opened in 1997; converted to trekking peak in ...</td>\n",
       "    </tr>\n",
       "    <tr>\n",
       "      <th>142</th>\n",
       "      <td>True</td>\n",
       "      <td>Opened in 2013?</td>\n",
       "    </tr>\n",
       "    <tr>\n",
       "      <th>146</th>\n",
       "      <td>False</td>\n",
       "      <td>Opened in 2002, delisted in 2013?</td>\n",
       "    </tr>\n",
       "    <tr>\n",
       "      <th>219</th>\n",
       "      <td>False</td>\n",
       "      <td>Opened in 2002 as trekking peak</td>\n",
       "    </tr>\n",
       "    <tr>\n",
       "      <th>301</th>\n",
       "      <td>True</td>\n",
       "      <td>Opened in 2014 as Hillary Peak</td>\n",
       "    </tr>\n",
       "    <tr>\n",
       "      <th>302</th>\n",
       "      <td>True</td>\n",
       "      <td>Opened in 2014 as Tenzing Peak</td>\n",
       "    </tr>\n",
       "    <tr>\n",
       "      <th>310</th>\n",
       "      <td>False</td>\n",
       "      <td>Opened in 2002 as trekking peak</td>\n",
       "    </tr>\n",
       "    <tr>\n",
       "      <th>319</th>\n",
       "      <td>False</td>\n",
       "      <td>Opened in 2002 as trekking peak</td>\n",
       "    </tr>\n",
       "    <tr>\n",
       "      <th>377</th>\n",
       "      <td>True</td>\n",
       "      <td>Opened in 2014 (as Khang Karpo)</td>\n",
       "    </tr>\n",
       "  </tbody>\n",
       "</table>\n",
       "</div>"
      ],
      "text/plain": [
       "      open                                           restrict\n",
       "40   False                    Opened in 2002 as trekking peak\n",
       "53   False  Opened in 1997; converted to trekking peak in ...\n",
       "142   True                                    Opened in 2013?\n",
       "146  False                  Opened in 2002, delisted in 2013?\n",
       "219  False                    Opened in 2002 as trekking peak\n",
       "301   True                     Opened in 2014 as Hillary Peak\n",
       "302   True                     Opened in 2014 as Tenzing Peak\n",
       "310  False                    Opened in 2002 as trekking peak\n",
       "319  False                    Opened in 2002 as trekking peak\n",
       "377   True                    Opened in 2014 (as Khang Karpo)"
      ]
     },
     "execution_count": 8,
     "metadata": {},
     "output_type": "execute_result"
    }
   ],
   "source": [
    "# Inspect 'open' and 'restrict'\n",
    "\n",
    "# Exclude all NaN's and retain DataFrame\n",
    "inspect = peaks[peaks['restrict'].notnull()][['open', 'restrict']]\n",
    "# Only select rows that contain values in 'restrict' \n",
    "inspect_open = inspect[inspect['restrict'].str.contains('Open')]\n",
    "\n",
    "# Create pattern that identifies \"Opened in <year>\" from column 'restrict'.\n",
    "pattern = re.compile('Opened in \\d{4}$')\n",
    "mask = inspect_open['restrict'].apply(lambda x : True if bool(pattern.match(x)) else False)\n",
    "inspect_open[mask].head()\n",
    "\n",
    "# Now only show the rows that don't match the pattern \"Opened in <year>\" for further inspection.\n",
    "inspect_open[~mask]"
   ]
  },
  {
   "cell_type": "markdown",
   "metadata": {},
   "source": [
    "As can be seen, where 'open' = False, the 'restrict' value only refers to trekking status, thus those values can set to NaN."
   ]
  },
  {
   "cell_type": "code",
   "execution_count": 9,
   "metadata": {
    "scrolled": true
   },
   "outputs": [
    {
     "name": "stderr",
     "output_type": "stream",
     "text": [
      "C:\\Users\\jacqu\\Miniconda3\\envs\\springboard_env\\lib\\site-packages\\ipykernel_launcher.py:10: SettingWithCopyWarning: \n",
      "A value is trying to be set on a copy of a slice from a DataFrame\n",
      "\n",
      "See the caveats in the documentation: http://pandas.pydata.org/pandas-docs/stable/indexing.html#indexing-view-versus-copy\n",
      "  # Remove the CWD from sys.path while we load stuff.\n"
     ]
    },
    {
     "data": {
      "text/html": [
       "<div>\n",
       "<style scoped>\n",
       "    .dataframe tbody tr th:only-of-type {\n",
       "        vertical-align: middle;\n",
       "    }\n",
       "\n",
       "    .dataframe tbody tr th {\n",
       "        vertical-align: top;\n",
       "    }\n",
       "\n",
       "    .dataframe thead th {\n",
       "        text-align: right;\n",
       "    }\n",
       "</style>\n",
       "<table border=\"1\" class=\"dataframe\">\n",
       "  <thead>\n",
       "    <tr style=\"text-align: right;\">\n",
       "      <th></th>\n",
       "      <th>peakid</th>\n",
       "      <th>heightm</th>\n",
       "      <th>himal</th>\n",
       "      <th>region</th>\n",
       "      <th>open</th>\n",
       "      <th>unlisted</th>\n",
       "      <th>restrict</th>\n",
       "      <th>phost</th>\n",
       "      <th>pstatus</th>\n",
       "      <th>pyear</th>\n",
       "    </tr>\n",
       "  </thead>\n",
       "  <tbody>\n",
       "    <tr>\n",
       "      <th>40</th>\n",
       "      <td>CHEK</td>\n",
       "      <td>6121</td>\n",
       "      <td>19</td>\n",
       "      <td>2</td>\n",
       "      <td>False</td>\n",
       "      <td>False</td>\n",
       "      <td>None</td>\n",
       "      <td>4</td>\n",
       "      <td>2</td>\n",
       "      <td>2005.0</td>\n",
       "    </tr>\n",
       "    <tr>\n",
       "      <th>53</th>\n",
       "      <td>CHRI</td>\n",
       "      <td>5550</td>\n",
       "      <td>12</td>\n",
       "      <td>2</td>\n",
       "      <td>False</td>\n",
       "      <td>False</td>\n",
       "      <td>None</td>\n",
       "      <td>1</td>\n",
       "      <td>2</td>\n",
       "      <td>1965.0</td>\n",
       "    </tr>\n",
       "    <tr>\n",
       "      <th>146</th>\n",
       "      <td>HUNK</td>\n",
       "      <td>6119</td>\n",
       "      <td>12</td>\n",
       "      <td>2</td>\n",
       "      <td>False</td>\n",
       "      <td>True</td>\n",
       "      <td>None</td>\n",
       "      <td>1</td>\n",
       "      <td>2</td>\n",
       "      <td>2012.0</td>\n",
       "    </tr>\n",
       "    <tr>\n",
       "      <th>219</th>\n",
       "      <td>KYAZ</td>\n",
       "      <td>6151</td>\n",
       "      <td>12</td>\n",
       "      <td>2</td>\n",
       "      <td>False</td>\n",
       "      <td>False</td>\n",
       "      <td>None</td>\n",
       "      <td>1</td>\n",
       "      <td>2</td>\n",
       "      <td>2002.0</td>\n",
       "    </tr>\n",
       "    <tr>\n",
       "      <th>310</th>\n",
       "      <td>NREK</td>\n",
       "      <td>6159</td>\n",
       "      <td>12</td>\n",
       "      <td>2</td>\n",
       "      <td>False</td>\n",
       "      <td>False</td>\n",
       "      <td>None</td>\n",
       "      <td>1</td>\n",
       "      <td>2</td>\n",
       "      <td>NaN</td>\n",
       "    </tr>\n",
       "    <tr>\n",
       "      <th>319</th>\n",
       "      <td>OMBG</td>\n",
       "      <td>6340</td>\n",
       "      <td>12</td>\n",
       "      <td>2</td>\n",
       "      <td>False</td>\n",
       "      <td>False</td>\n",
       "      <td>None</td>\n",
       "      <td>1</td>\n",
       "      <td>2</td>\n",
       "      <td>1960.0</td>\n",
       "    </tr>\n",
       "  </tbody>\n",
       "</table>\n",
       "</div>"
      ],
      "text/plain": [
       "    peakid  heightm  himal  region   open  unlisted restrict  phost  pstatus   pyear\n",
       "40    CHEK     6121     19       2  False     False     None      4        2  2005.0\n",
       "53    CHRI     5550     12       2  False     False     None      1        2  1965.0\n",
       "146   HUNK     6119     12       2  False      True     None      1        2  2012.0\n",
       "219   KYAZ     6151     12       2  False     False     None      1        2  2002.0\n",
       "310   NREK     6159     12       2  False     False     None      1        2     NaN\n",
       "319   OMBG     6340     12       2  False     False     None      1        2  1960.0"
      ]
     },
     "execution_count": 9,
     "metadata": {},
     "output_type": "execute_result"
    },
    {
     "data": {
      "text/plain": [
       "NaN                                                   204\n",
       "Opened in 2014                                         97\n",
       "Opened in 2002                                         92\n",
       "Opened in 2003                                         40\n",
       "Opened in 2001                                          4\n",
       "Opened in 1997                                          4\n",
       "Converted to trekking peak in 2002                      3\n",
       "One permit for Churen Himal's three summits             3\n",
       "Requires permit for Jobo Rinjang                        3\n",
       "Peak entirely within China                              2\n",
       "Requires permit for Nuptse                              2\n",
       "Requires permit for Annapurna I                         2\n",
       "Closed                                                  1\n",
       "One permit for Kanjiroba's north and south summits      1\n",
       "Requires permit for Amphu I                             1\n",
       "Opened in 2014 (as Khang Karpo)                         1\n",
       "Opened in 2014 as Tenzing Peak                          1\n",
       "Requires permit for Gimmigela Chuli                     1\n",
       "Opened in 2014 as Hillary Peak                          1\n",
       "Requires permit for Lachama Chuli                       1\n",
       "Opened in 2013?                                         1\n",
       "Opened in 2016                                          1\n",
       "Delisted in 2014                                        1\n",
       "Requires Jannu permit                                   1\n",
       "Name: restrict, dtype: int64"
      ]
     },
     "execution_count": 9,
     "metadata": {},
     "output_type": "execute_result"
    }
   ],
   "source": [
    "# Find indices where 'open' = False AND 'restrict' does not match the pattern\n",
    "val_to_remove = inspect_open[~mask]\n",
    "#val_to_remove[val_to_remove['open'] == False]\n",
    "\n",
    "# Find only these calues in peaks DataFrame\n",
    "idx = val_to_remove[val_to_remove['open'] == False].index\n",
    "#peaks.loc[idx]\n",
    "\n",
    "# Change these values to NaN\n",
    "peaks['restrict'][idx] = None\n",
    "\n",
    "# Check new correct values\n",
    "peaks.loc[idx]\n",
    "\n",
    "# Look for the other 'Opened in ...' entries and \n",
    "peaks['restrict'].value_counts(dropna=False)"
   ]
  },
  {
   "cell_type": "code",
   "execution_count": 10,
   "metadata": {
    "scrolled": true
   },
   "outputs": [
    {
     "data": {
      "text/plain": [
       "Opened in 2014                     97\n",
       "Opened in 2002                     92\n",
       "Opened in 2003                     40\n",
       "Opened in 2001                      4\n",
       "Opened in 1997                      4\n",
       "Opened in 2014 (as Khang Karpo)     1\n",
       "Opened in 2013?                     1\n",
       "Opened in 2014 as Tenzing Peak      1\n",
       "Opened in 2016                      1\n",
       "Opened in 2014 as Hillary Peak      1\n",
       "Name: restrict, dtype: int64"
      ]
     },
     "execution_count": 10,
     "metadata": {},
     "output_type": "execute_result"
    }
   ],
   "source": [
    "# Now the year values can be retreived and saved as float in a new column.\n",
    "# Why not int? Pandas float works better when series contains NaN's\n",
    "\n",
    "# Inspect 'open' and 'restrict' again after some values changed in 'restrict'\n",
    "# Exclude all NaN's and retain DataFrame\n",
    "inspect = peaks[peaks['restrict'].notnull()][['open', 'restrict']]\n",
    "# Only select rows that contain values in 'restrict' \n",
    "inspect_open = inspect[inspect['restrict'].str.contains('Open')]\n",
    "\n",
    "# New values\n",
    "inspect_open['restrict'].value_counts()\n",
    "\n",
    "# Get year information only\n",
    "pattern2 = re.compile('\\d{4}')\n",
    "\n",
    "# Add peaks column 'openyear' and remove column 'restrict'\n",
    "peaks['openyear'] = inspect_open['restrict'].apply(lambda x : re.findall(pattern2, x)[0])\n",
    "peaks = peaks.drop('restrict', axis=1, errors='ignore')"
   ]
  },
  {
   "cell_type": "code",
   "execution_count": 11,
   "metadata": {
    "scrolled": true
   },
   "outputs": [
    {
     "data": {
      "text/html": [
       "<div>\n",
       "<style scoped>\n",
       "    .dataframe tbody tr th:only-of-type {\n",
       "        vertical-align: middle;\n",
       "    }\n",
       "\n",
       "    .dataframe tbody tr th {\n",
       "        vertical-align: top;\n",
       "    }\n",
       "\n",
       "    .dataframe thead th {\n",
       "        text-align: right;\n",
       "    }\n",
       "</style>\n",
       "<table border=\"1\" class=\"dataframe\">\n",
       "  <thead>\n",
       "    <tr style=\"text-align: right;\">\n",
       "      <th></th>\n",
       "      <th>peakid</th>\n",
       "      <th>heightm</th>\n",
       "      <th>himal</th>\n",
       "      <th>region</th>\n",
       "      <th>open</th>\n",
       "      <th>unlisted</th>\n",
       "      <th>phost</th>\n",
       "      <th>pstatus</th>\n",
       "      <th>pyear</th>\n",
       "      <th>openyear</th>\n",
       "    </tr>\n",
       "  </thead>\n",
       "  <tbody>\n",
       "    <tr>\n",
       "      <th>0</th>\n",
       "      <td>ACHN</td>\n",
       "      <td>6055</td>\n",
       "      <td>17</td>\n",
       "      <td>7</td>\n",
       "      <td>True</td>\n",
       "      <td>False</td>\n",
       "      <td>1</td>\n",
       "      <td>2</td>\n",
       "      <td>2015.0</td>\n",
       "      <td>2014.0</td>\n",
       "    </tr>\n",
       "    <tr>\n",
       "      <th>1</th>\n",
       "      <td>AGLE</td>\n",
       "      <td>6675</td>\n",
       "      <td>19</td>\n",
       "      <td>2</td>\n",
       "      <td>True</td>\n",
       "      <td>False</td>\n",
       "      <td>1</td>\n",
       "      <td>1</td>\n",
       "      <td>NaN</td>\n",
       "      <td>2014.0</td>\n",
       "    </tr>\n",
       "    <tr>\n",
       "      <th>2</th>\n",
       "      <td>AMAD</td>\n",
       "      <td>6814</td>\n",
       "      <td>12</td>\n",
       "      <td>2</td>\n",
       "      <td>True</td>\n",
       "      <td>False</td>\n",
       "      <td>1</td>\n",
       "      <td>2</td>\n",
       "      <td>1961.0</td>\n",
       "      <td>NaN</td>\n",
       "    </tr>\n",
       "    <tr>\n",
       "      <th>3</th>\n",
       "      <td>AMOT</td>\n",
       "      <td>6393</td>\n",
       "      <td>3</td>\n",
       "      <td>5</td>\n",
       "      <td>True</td>\n",
       "      <td>False</td>\n",
       "      <td>1</td>\n",
       "      <td>1</td>\n",
       "      <td>NaN</td>\n",
       "      <td>2002.0</td>\n",
       "    </tr>\n",
       "    <tr>\n",
       "      <th>4</th>\n",
       "      <td>AMPG</td>\n",
       "      <td>5630</td>\n",
       "      <td>12</td>\n",
       "      <td>2</td>\n",
       "      <td>True</td>\n",
       "      <td>False</td>\n",
       "      <td>1</td>\n",
       "      <td>2</td>\n",
       "      <td>1953.0</td>\n",
       "      <td>2002.0</td>\n",
       "    </tr>\n",
       "  </tbody>\n",
       "</table>\n",
       "</div>"
      ],
      "text/plain": [
       "  peakid  heightm  himal  region  open  unlisted  phost  pstatus   pyear  openyear\n",
       "0   ACHN     6055     17       7  True     False      1        2  2015.0    2014.0\n",
       "1   AGLE     6675     19       2  True     False      1        1     NaN    2014.0\n",
       "2   AMAD     6814     12       2  True     False      1        2  1961.0       NaN\n",
       "3   AMOT     6393      3       5  True     False      1        1     NaN    2002.0\n",
       "4   AMPG     5630     12       2  True     False      1        2  1953.0    2002.0"
      ]
     },
     "execution_count": 11,
     "metadata": {},
     "output_type": "execute_result"
    },
    {
     "name": "stdout",
     "output_type": "stream",
     "text": [
      "<class 'pandas.core.frame.DataFrame'>\n",
      "RangeIndex: 468 entries, 0 to 467\n",
      "Data columns (total 10 columns):\n",
      "peakid      468 non-null object\n",
      "heightm     468 non-null int64\n",
      "himal       468 non-null int64\n",
      "region      468 non-null int64\n",
      "open        468 non-null bool\n",
      "unlisted    468 non-null bool\n",
      "phost       468 non-null int64\n",
      "pstatus     468 non-null int64\n",
      "pyear       325 non-null float64\n",
      "openyear    242 non-null float64\n",
      "dtypes: bool(2), float64(2), int64(5), object(1)\n",
      "memory usage: 30.2+ KB\n"
     ]
    }
   ],
   "source": [
    "# Convert columns 'openyear' to float\n",
    "peaks['openyear'] = peaks['openyear'].astype(float)\n",
    "\n",
    "# Review data\n",
    "peaks.head()\n",
    "peaks.info()"
   ]
  },
  {
   "cell_type": "code",
   "execution_count": 12,
   "metadata": {
    "scrolled": true
   },
   "outputs": [
    {
     "name": "stdout",
     "output_type": "stream",
     "text": [
      "<class 'pandas.core.frame.DataFrame'>\n",
      "RangeIndex: 468 entries, 0 to 467\n",
      "Data columns (total 10 columns):\n",
      "peakid      468 non-null object\n",
      "heightm     468 non-null int64\n",
      "himal       468 non-null category\n",
      "region      468 non-null category\n",
      "open        468 non-null bool\n",
      "unlisted    468 non-null bool\n",
      "phost       468 non-null category\n",
      "pstatus     468 non-null category\n",
      "pyear       325 non-null float64\n",
      "openyear    242 non-null float64\n",
      "dtypes: bool(2), category(4), float64(2), int64(1), object(1)\n",
      "memory usage: 18.9+ KB\n"
     ]
    }
   ],
   "source": [
    "# Lastly, convert himal, region, phost and pstatus to category\n",
    "peaks[['himal', 'region', 'phost', 'pstatus']] = peaks[['himal', 'region', 'phost', 'pstatus']].astype('category')\n",
    "peaks.info()"
   ]
  },
  {
   "cell_type": "markdown",
   "metadata": {},
   "source": [
    "The 'peaks' data set is complete. Columns with NaN values 'pyear' and 'openyear' will be completed when joined with the 'epedition' data set."
   ]
  },
  {
   "cell_type": "markdown",
   "metadata": {},
   "source": [
    "## Expedition dataset cleaning"
   ]
  },
  {
   "cell_type": "code",
   "execution_count": 488,
   "metadata": {
    "scrolled": false
   },
   "outputs": [
    {
     "data": {
      "text/plain": [
       "(9959, 65)"
      ]
     },
     "execution_count": 488,
     "metadata": {},
     "output_type": "execute_result"
    },
    {
     "name": "stdout",
     "output_type": "stream",
     "text": [
      "<class 'pandas.core.frame.DataFrame'>\n",
      "RangeIndex: 9959 entries, 0 to 9958\n",
      "Data columns (total 65 columns):\n",
      "expid         9959 non-null object\n",
      "peakid        9959 non-null object\n",
      "year          9959 non-null int64\n",
      "season        9959 non-null int64\n",
      "host          9959 non-null int64\n",
      "route1        9806 non-null object\n",
      "route2        307 non-null object\n",
      "route3        30 non-null object\n",
      "route4        5 non-null object\n",
      "nation        9959 non-null object\n",
      "leaders       9935 non-null object\n",
      "sponsor       9139 non-null object\n",
      "success1      9959 non-null bool\n",
      "success2      9959 non-null bool\n",
      "success3      9959 non-null bool\n",
      "success4      9959 non-null bool\n",
      "ascent1       2719 non-null object\n",
      "ascent2       101 non-null object\n",
      "ascent3       11 non-null object\n",
      "ascent4       4 non-null object\n",
      "claimed       9959 non-null bool\n",
      "disputed      9959 non-null bool\n",
      "countries     3224 non-null object\n",
      "approach      4677 non-null object\n",
      "bcdate        9959 non-null object\n",
      "smtdate       9959 non-null object\n",
      "smttime       4273 non-null float64\n",
      "smtdays       9959 non-null int64\n",
      "totdays       9959 non-null int64\n",
      "termdate      9959 non-null object\n",
      "termreason    9959 non-null int64\n",
      "termnote      4308 non-null object\n",
      "highpoint     9959 non-null int64\n",
      "traverse      9959 non-null bool\n",
      "ski           9959 non-null bool\n",
      "parapente     9959 non-null bool\n",
      "camps         9959 non-null int64\n",
      "rope          9959 non-null int64\n",
      "totmembers    9959 non-null int64\n",
      "smtmembers    9959 non-null int64\n",
      "mdeaths       9959 non-null int64\n",
      "tothired      9959 non-null int64\n",
      "smthired      9959 non-null int64\n",
      "hdeaths       9959 non-null int64\n",
      "nohired       9959 non-null bool\n",
      "o2used        9959 non-null bool\n",
      "o2none        9959 non-null bool\n",
      "o2climb       9959 non-null bool\n",
      "o2descent     9959 non-null bool\n",
      "o2sleep       9959 non-null bool\n",
      "o2medical     9959 non-null bool\n",
      "o2taken       9959 non-null bool\n",
      "o2unkwn       9959 non-null bool\n",
      "othersmts     1965 non-null object\n",
      "campsites     9632 non-null object\n",
      "accidents     3411 non-null object\n",
      "achievment    913 non-null object\n",
      "agency        8394 non-null object\n",
      "comrte        9959 non-null bool\n",
      "stdrte        9959 non-null bool\n",
      "primrte       9959 non-null bool\n",
      "primmem       9959 non-null bool\n",
      "primref       9959 non-null bool\n",
      "primid        651 non-null object\n",
      "chksum        9959 non-null int64\n",
      "dtypes: bool(23), float64(1), int64(16), object(25)\n",
      "memory usage: 3.4+ MB\n"
     ]
    }
   ],
   "source": [
    "# Load expeditions as 'xpd' for short\n",
    "xpd = pd.read_csv('expeditions.csv')\n",
    "\n",
    "# Inspect the total entries and non-null values\n",
    "xpd_csv.shape\n",
    "xpd_csv.info()"
   ]
  },
  {
   "cell_type": "markdown",
   "metadata": {},
   "source": [
    "# Referring to the 'Himalayan Database Guide.pdf', the following features will not be included:\n",
    "\n",
    "route2-4 - Since 'route1' has significantly less null values compared to 'route2/3/4', only 'route1' will be used. There is also little information on 'route2/3/4' information in the documentation.\n",
    "\n",
    "sponsor - Looking at it's value_counts, there are too many NaN values and sponsors with the most counts are independent, non-descript entries.\n",
    "\n",
    "success2-4 - Same as 'route2-4' description above.\n",
    "\n",
    "ascent1-4 - For the same reason as 'route2-4', 'ascent1-4' has not contain enough data and according to the documentation, these numbers are not maintained for recent ascends of some peaks.\n",
    "\n",
    "claimed - This describes disputed successes which, according to the documentation, is not included as successes in statistical reports and analysis. Value_counts only give 30 True values, which does not affect 'success1'.\n",
    "\n",
    "disputed - This describes the disputed nature of this summit, but does not affect the outcome of 'success1'.\n",
    "\n",
    "countries - Too many NaN values. This data will be captured by the members dataset.\n",
    "\n",
    "approach - Too many NaN values.\n",
    "\n",
    "bcdate - The base camp date, 'bcdate', will be discounted by the summit date, as more relevant.\n",
    "\n",
    "smttime, smtdays, totdays, termdate - Too many Null values.\n",
    "\n",
    "termnote, highpoint - Not relevant.\n",
    "\n",
    "o2unkwn - Only 21 True values. The other oxygen related columns covers the 21 unknown oxygen use columns.\n",
    "\n",
    "othersmts, campsites, accidents, achievement - Detailed descriptive information. Cannot be used.\n",
    "\n",
    "stdrte - This is the 8000m standard route. Not applicable to all peaks then.\n",
    "\n",
    "primrte, primmem, primref, primid, chksum - Not relevent. Database related fields.\n",
    "\n",
    "\n",
    "Output (Y) - Feature 'termreason' will be used as the outcome."
   ]
  },
  {
   "cell_type": "code",
   "execution_count": 489,
   "metadata": {
    "scrolled": true
   },
   "outputs": [
    {
     "data": {
      "text/plain": [
       "(9959, 32)"
      ]
     },
     "execution_count": 489,
     "metadata": {},
     "output_type": "execute_result"
    },
    {
     "data": {
      "text/plain": [
       "Index(['expid', 'peakid', 'year', 'season', 'host', 'route1', 'nation', 'leaders', 'success1', 'smtdate',\n",
       "       'termreason', 'traverse', 'ski', 'parapente', 'camps', 'rope', 'totmembers', 'smtmembers', 'mdeaths',\n",
       "       'tothired', 'smthired', 'hdeaths', 'nohired', 'o2used', 'o2none', 'o2climb', 'o2descent', 'o2sleep',\n",
       "       'o2medical', 'o2taken', 'agency', 'comrte'],\n",
       "      dtype='object')"
      ]
     },
     "execution_count": 489,
     "metadata": {},
     "output_type": "execute_result"
    }
   ],
   "source": [
    "# Only using the following features\n",
    "drop_columns = ['route2', 'route3', 'route4', 'sponsor', 'success2', 'success3', 'success4', 'ascent1', \n",
    "                'ascent2', 'ascent3', 'ascent4', 'claimed', 'disputed', 'countries', 'approach', 'bcdate', \n",
    "                'smttime', 'smtdays', 'totdays', 'termdate', 'termnote', 'highpoint', 'o2unkwn', 'othersmts', 'campsites', \n",
    "                'accidents', 'achievment', 'stdrte', 'primrte', 'primmem', 'primref', 'primid', 'chksum']\n",
    "\n",
    "# Drop the columns not needed\n",
    "xpd.drop(drop_columns, inplace=True, axis=1)\n",
    "\n",
    "xpd.shape\n",
    "xpd.columns"
   ]
  },
  {
   "cell_type": "markdown",
   "metadata": {},
   "source": [
    "Further data cleaning follows.\n",
    "\n",
    "Note: For 'nation' former names of countries have to be used. Example, expeditions from Eastern Bloc countries before 1993 were recorded as USSR. It is not possible now to tell from which post-1993 country they belong to. Therefore post-1993 expeditions for these countries will be grouped under USSR. \n",
    "\n",
    "Czech Republic and Slovakia will change to Czechoslovakia.\n",
    "Belarus, Estonia, Georgia, Kazakhstan, Latvia, Lithuania, Russia, Ukrain and Uzbekistan will change to USSR.\n",
    "Exception; 'W Germany' will change to 'Germany'. "
   ]
  },
  {
   "cell_type": "code",
   "execution_count": 490,
   "metadata": {},
   "outputs": [
    {
     "name": "stderr",
     "output_type": "stream",
     "text": [
      "C:\\Users\\jacqu\\Miniconda3\\envs\\springboard_env\\lib\\site-packages\\ipykernel_launcher.py:18: SettingWithCopyWarning: \n",
      "A value is trying to be set on a copy of a slice from a DataFrame\n",
      "\n",
      "See the caveats in the documentation: http://pandas.pydata.org/pandas-docs/stable/indexing.html#indexing-view-versus-copy\n",
      "C:\\Users\\jacqu\\Miniconda3\\envs\\springboard_env\\lib\\site-packages\\ipykernel_launcher.py:56: SettingWithCopyWarning: \n",
      "A value is trying to be set on a copy of a slice from a DataFrame\n",
      "\n",
      "See the caveats in the documentation: http://pandas.pydata.org/pandas-docs/stable/indexing.html#indexing-view-versus-copy\n"
     ]
    },
    {
     "name": "stdout",
     "output_type": "stream",
     "text": [
      "<class 'pandas.core.frame.DataFrame'>\n",
      "RangeIndex: 9959 entries, 0 to 9958\n",
      "Data columns (total 32 columns):\n",
      "expid         9959 non-null object\n",
      "peakid        9959 non-null object\n",
      "year          9959 non-null int64\n",
      "season        9959 non-null category\n",
      "host          9959 non-null category\n",
      "route1        9959 non-null object\n",
      "nation        9959 non-null object\n",
      "leaders       9959 non-null object\n",
      "success1      9959 non-null int32\n",
      "termreason    9959 non-null category\n",
      "traverse      9959 non-null int32\n",
      "ski           9959 non-null int32\n",
      "parapente     9959 non-null int32\n",
      "camps         9959 non-null int64\n",
      "rope          9959 non-null int64\n",
      "totmembers    9959 non-null int64\n",
      "smtmembers    9959 non-null int64\n",
      "mdeaths       9959 non-null int64\n",
      "tothired      9959 non-null float64\n",
      "smthired      9959 non-null int64\n",
      "hdeaths       9959 non-null int64\n",
      "nohired       9959 non-null int32\n",
      "o2used        9959 non-null int32\n",
      "o2none        9959 non-null int32\n",
      "o2climb       9959 non-null int32\n",
      "o2descent     9959 non-null int32\n",
      "o2sleep       9959 non-null int32\n",
      "o2medical     9959 non-null int32\n",
      "o2taken       9959 non-null int32\n",
      "agency        9959 non-null object\n",
      "comrte        9959 non-null int32\n",
      "smtmonth      9959 non-null category\n",
      "dtypes: category(4), float64(1), int32(13), int64(8), object(6)\n",
      "memory usage: 1.7+ MB\n"
     ]
    }
   ],
   "source": [
    "# Clean the data for the remaining features\n",
    "\n",
    "# Convert these columns to category\n",
    "to_cat = ['season', 'host', 'termreason']\n",
    "for col in to_cat:\n",
    "    xpd[col] = xpd[col].astype('category')\n",
    "\n",
    "# Convert these columns from bool to binary\n",
    "to_bin = ['success1','traverse', 'ski', 'parapente', 'nohired', 'o2used', 'o2none', 'o2climb', 'o2descent', \n",
    "          'o2sleep', 'o2medical', 'o2taken', 'comrte']\n",
    "xpd[to_bin] = xpd[to_bin].astype(int)\n",
    "\n",
    "# 'route1' has 153 NaN. Change each NaN value to the index number as a random name. \n",
    "def replace_nan_with_diff_object_val(column):\n",
    "    \"\"\" Replace NaN values in a column with different object values\"\"\"\n",
    "    nan_range = xpd[column][xpd[column].isnull()].index\n",
    "    for i in nan_range:\n",
    "        xpd[column][i] = i\n",
    "\n",
    "replace_nan_with_diff_object_val('route1')\n",
    "        \n",
    "# 'nation' includes  older names of countries in the previous Eastern Bloc. For consistency, change \n",
    "# new country names to older ones. \n",
    "xpd['nation'] = xpd['nation'].replace(to_replace='W Germany/Iran', value='Germany/Iran')\n",
    "xpd['nation'] = xpd['nation'].replace(to_replace='W Germany', value='Germany')\n",
    "\n",
    "current_name = ['Czech Republic', 'Slovakia']\n",
    "for name in current_name:\n",
    "    xpd['nation'] = xpd['nation'].replace(to_replace=name, value='Czechoslovakia')\n",
    "    \n",
    "current_name = ['Croatia', 'Macedonia', 'Serbia',' Slovenia']\n",
    "for name in current_name:\n",
    "    xpd['nation'] = xpd['nation'].replace(to_replace=name, value='Yugoslavia')\n",
    "    \n",
    "current_name = ['Belarus', 'Estonia', 'Georgia', 'Kazakhstan', 'Latvia', 'Lithuania', 'Russia', \n",
    "                'Ukrain', 'Uzbekistan']\n",
    "for name in current_name:\n",
    "    xpd['nation'] = xpd['nation'].replace(to_replace=name, value='USSR')\n",
    "\n",
    "# leaders has 24 NaN. Change each NaN value to the index number as a random name.\n",
    "replace_nan_with_diff_object_val('leaders')\n",
    "\n",
    "# smtdate get month data only as category. There are 634 NaNs. \n",
    "# Extract month information\n",
    "xpd['smtmonth'] = xpd['smtdate'].str.split('/').str[1]\n",
    "# Convert to float in order to calcualte mean and replace NaNs with the mean\n",
    "xpd['smtmonth'] = xpd['smtmonth'].astype(float)\n",
    "xpd['smtmonth'] = xpd['smtmonth'].fillna(xpd['smtmonth'].mean())\n",
    "# Convert back to int to drop the decimals, then convert to category\n",
    "xpd['smtmonth'] = xpd['smtmonth'].astype(int).astype('category')\n",
    "# Drop the 'smtdate' column - not needed.\n",
    "xpd.drop('smtdate', inplace=True, axis=1)\n",
    "\n",
    "# tothired - (nohired = True) indicates true zero for 'tothired'. Find the Falses and allocate \n",
    "# mean values. There are 260 missing values.\n",
    "xpd['tothired'][idx] = xpd['tothired'].mean().round()\n",
    "\n",
    "# agency has 1565 NaN. \n",
    "replace_nan_with_diff_object_val('agency')\n",
    "\n",
    "# Inspect cleaned xpd dataframe\n",
    "xpd.info()"
   ]
  },
  {
   "cell_type": "markdown",
   "metadata": {},
   "source": [
    "Combine the 'peaks' and 'exp' dataframes depending on the date of the expedition and the status of the peak."
   ]
  },
  {
   "cell_type": "code",
   "execution_count": 491,
   "metadata": {},
   "outputs": [
    {
     "data": {
      "text/plain": [
       "(468, 12)"
      ]
     },
     "execution_count": 491,
     "metadata": {},
     "output_type": "execute_result"
    },
    {
     "data": {
      "text/plain": [
       "(9959, 32)"
      ]
     },
     "execution_count": 491,
     "metadata": {},
     "output_type": "execute_result"
    },
    {
     "data": {
      "text/html": [
       "<div>\n",
       "<style scoped>\n",
       "    .dataframe tbody tr th:only-of-type {\n",
       "        vertical-align: middle;\n",
       "    }\n",
       "\n",
       "    .dataframe tbody tr th {\n",
       "        vertical-align: top;\n",
       "    }\n",
       "\n",
       "    .dataframe thead th {\n",
       "        text-align: right;\n",
       "    }\n",
       "</style>\n",
       "<table border=\"1\" class=\"dataframe\">\n",
       "  <thead>\n",
       "    <tr style=\"text-align: right;\">\n",
       "      <th></th>\n",
       "      <th>peakid</th>\n",
       "      <th>heightm</th>\n",
       "      <th>himal</th>\n",
       "      <th>region</th>\n",
       "      <th>open</th>\n",
       "      <th>unlisted</th>\n",
       "      <th>trekking</th>\n",
       "      <th>trekyear</th>\n",
       "      <th>restrict</th>\n",
       "      <th>phost</th>\n",
       "      <th>pstatus</th>\n",
       "      <th>pyear</th>\n",
       "    </tr>\n",
       "  </thead>\n",
       "  <tbody>\n",
       "    <tr>\n",
       "      <th>0</th>\n",
       "      <td>ACHN</td>\n",
       "      <td>6055</td>\n",
       "      <td>17</td>\n",
       "      <td>7</td>\n",
       "      <td>True</td>\n",
       "      <td>False</td>\n",
       "      <td>False</td>\n",
       "      <td>NaN</td>\n",
       "      <td>Opened in 2014</td>\n",
       "      <td>1</td>\n",
       "      <td>2</td>\n",
       "      <td>2015.0</td>\n",
       "    </tr>\n",
       "    <tr>\n",
       "      <th>1</th>\n",
       "      <td>AGLE</td>\n",
       "      <td>6675</td>\n",
       "      <td>19</td>\n",
       "      <td>2</td>\n",
       "      <td>True</td>\n",
       "      <td>False</td>\n",
       "      <td>False</td>\n",
       "      <td>NaN</td>\n",
       "      <td>Opened in 2014</td>\n",
       "      <td>1</td>\n",
       "      <td>1</td>\n",
       "      <td>NaN</td>\n",
       "    </tr>\n",
       "    <tr>\n",
       "      <th>2</th>\n",
       "      <td>AMAD</td>\n",
       "      <td>6814</td>\n",
       "      <td>12</td>\n",
       "      <td>2</td>\n",
       "      <td>True</td>\n",
       "      <td>False</td>\n",
       "      <td>False</td>\n",
       "      <td>NaN</td>\n",
       "      <td>NaN</td>\n",
       "      <td>1</td>\n",
       "      <td>2</td>\n",
       "      <td>1961.0</td>\n",
       "    </tr>\n",
       "    <tr>\n",
       "      <th>3</th>\n",
       "      <td>AMOT</td>\n",
       "      <td>6393</td>\n",
       "      <td>3</td>\n",
       "      <td>5</td>\n",
       "      <td>True</td>\n",
       "      <td>False</td>\n",
       "      <td>False</td>\n",
       "      <td>NaN</td>\n",
       "      <td>Opened in 2002</td>\n",
       "      <td>1</td>\n",
       "      <td>1</td>\n",
       "      <td>NaN</td>\n",
       "    </tr>\n",
       "    <tr>\n",
       "      <th>4</th>\n",
       "      <td>AMPG</td>\n",
       "      <td>5630</td>\n",
       "      <td>12</td>\n",
       "      <td>2</td>\n",
       "      <td>True</td>\n",
       "      <td>False</td>\n",
       "      <td>False</td>\n",
       "      <td>NaN</td>\n",
       "      <td>Opened in 2002</td>\n",
       "      <td>1</td>\n",
       "      <td>2</td>\n",
       "      <td>1953.0</td>\n",
       "    </tr>\n",
       "  </tbody>\n",
       "</table>\n",
       "</div>"
      ],
      "text/plain": [
       "  peakid  heightm  himal  region  open  unlisted  trekking  trekyear        restrict  phost  pstatus   pyear\n",
       "0   ACHN     6055     17       7  True     False     False       NaN  Opened in 2014      1        2  2015.0\n",
       "1   AGLE     6675     19       2  True     False     False       NaN  Opened in 2014      1        1     NaN\n",
       "2   AMAD     6814     12       2  True     False     False       NaN             NaN      1        2  1961.0\n",
       "3   AMOT     6393      3       5  True     False     False       NaN  Opened in 2002      1        1     NaN\n",
       "4   AMPG     5630     12       2  True     False     False       NaN  Opened in 2002      1        2  1953.0"
      ]
     },
     "execution_count": 491,
     "metadata": {},
     "output_type": "execute_result"
    },
    {
     "data": {
      "text/html": [
       "<div>\n",
       "<style scoped>\n",
       "    .dataframe tbody tr th:only-of-type {\n",
       "        vertical-align: middle;\n",
       "    }\n",
       "\n",
       "    .dataframe tbody tr th {\n",
       "        vertical-align: top;\n",
       "    }\n",
       "\n",
       "    .dataframe thead th {\n",
       "        text-align: right;\n",
       "    }\n",
       "</style>\n",
       "<table border=\"1\" class=\"dataframe\">\n",
       "  <thead>\n",
       "    <tr style=\"text-align: right;\">\n",
       "      <th></th>\n",
       "      <th>expid</th>\n",
       "      <th>peakid</th>\n",
       "      <th>year</th>\n",
       "      <th>season</th>\n",
       "      <th>host</th>\n",
       "      <th>route1</th>\n",
       "      <th>nation</th>\n",
       "      <th>leaders</th>\n",
       "      <th>success1</th>\n",
       "      <th>termreason</th>\n",
       "      <th>...</th>\n",
       "      <th>o2used</th>\n",
       "      <th>o2none</th>\n",
       "      <th>o2climb</th>\n",
       "      <th>o2descent</th>\n",
       "      <th>o2sleep</th>\n",
       "      <th>o2medical</th>\n",
       "      <th>o2taken</th>\n",
       "      <th>agency</th>\n",
       "      <th>comrte</th>\n",
       "      <th>smtmonth</th>\n",
       "    </tr>\n",
       "  </thead>\n",
       "  <tbody>\n",
       "    <tr>\n",
       "      <th>0</th>\n",
       "      <td>ANN260101</td>\n",
       "      <td>ANN2</td>\n",
       "      <td>1960</td>\n",
       "      <td>1</td>\n",
       "      <td>1</td>\n",
       "      <td>NW Ridge-W Ridge</td>\n",
       "      <td>UK</td>\n",
       "      <td>J. O. M. Roberts</td>\n",
       "      <td>1</td>\n",
       "      <td>1</td>\n",
       "      <td>...</td>\n",
       "      <td>1</td>\n",
       "      <td>0</td>\n",
       "      <td>1</td>\n",
       "      <td>0</td>\n",
       "      <td>1</td>\n",
       "      <td>0</td>\n",
       "      <td>0</td>\n",
       "      <td>0</td>\n",
       "      <td>0</td>\n",
       "      <td>5</td>\n",
       "    </tr>\n",
       "    <tr>\n",
       "      <th>1</th>\n",
       "      <td>ANN269301</td>\n",
       "      <td>ANN2</td>\n",
       "      <td>1969</td>\n",
       "      <td>3</td>\n",
       "      <td>1</td>\n",
       "      <td>NW Ridge-W Ridge</td>\n",
       "      <td>Yugoslavia</td>\n",
       "      <td>Ales Kunaver</td>\n",
       "      <td>1</td>\n",
       "      <td>1</td>\n",
       "      <td>...</td>\n",
       "      <td>0</td>\n",
       "      <td>1</td>\n",
       "      <td>0</td>\n",
       "      <td>0</td>\n",
       "      <td>0</td>\n",
       "      <td>0</td>\n",
       "      <td>0</td>\n",
       "      <td>1</td>\n",
       "      <td>0</td>\n",
       "      <td>10</td>\n",
       "    </tr>\n",
       "    <tr>\n",
       "      <th>2</th>\n",
       "      <td>ANN273101</td>\n",
       "      <td>ANN2</td>\n",
       "      <td>1973</td>\n",
       "      <td>1</td>\n",
       "      <td>1</td>\n",
       "      <td>W Ridge-N Face</td>\n",
       "      <td>Japan</td>\n",
       "      <td>Yukio Shimamura</td>\n",
       "      <td>1</td>\n",
       "      <td>1</td>\n",
       "      <td>...</td>\n",
       "      <td>0</td>\n",
       "      <td>1</td>\n",
       "      <td>0</td>\n",
       "      <td>0</td>\n",
       "      <td>0</td>\n",
       "      <td>0</td>\n",
       "      <td>0</td>\n",
       "      <td>2</td>\n",
       "      <td>0</td>\n",
       "      <td>5</td>\n",
       "    </tr>\n",
       "    <tr>\n",
       "      <th>3</th>\n",
       "      <td>ANN278301</td>\n",
       "      <td>ANN2</td>\n",
       "      <td>1978</td>\n",
       "      <td>3</td>\n",
       "      <td>1</td>\n",
       "      <td>N Face-W Ridge</td>\n",
       "      <td>UK</td>\n",
       "      <td>Richard J. Isherwood</td>\n",
       "      <td>0</td>\n",
       "      <td>4</td>\n",
       "      <td>...</td>\n",
       "      <td>0</td>\n",
       "      <td>1</td>\n",
       "      <td>0</td>\n",
       "      <td>0</td>\n",
       "      <td>0</td>\n",
       "      <td>0</td>\n",
       "      <td>0</td>\n",
       "      <td>3</td>\n",
       "      <td>0</td>\n",
       "      <td>10</td>\n",
       "    </tr>\n",
       "    <tr>\n",
       "      <th>4</th>\n",
       "      <td>ANN279301</td>\n",
       "      <td>ANN2</td>\n",
       "      <td>1979</td>\n",
       "      <td>3</td>\n",
       "      <td>1</td>\n",
       "      <td>N Face-W Ridge</td>\n",
       "      <td>UK</td>\n",
       "      <td>Paul Moores</td>\n",
       "      <td>0</td>\n",
       "      <td>4</td>\n",
       "      <td>...</td>\n",
       "      <td>0</td>\n",
       "      <td>1</td>\n",
       "      <td>0</td>\n",
       "      <td>0</td>\n",
       "      <td>0</td>\n",
       "      <td>0</td>\n",
       "      <td>0</td>\n",
       "      <td>4</td>\n",
       "      <td>0</td>\n",
       "      <td>10</td>\n",
       "    </tr>\n",
       "  </tbody>\n",
       "</table>\n",
       "<p>5 rows × 32 columns</p>\n",
       "</div>"
      ],
      "text/plain": [
       "       expid peakid  year season host            route1      nation               leaders  success1  \\\n",
       "0  ANN260101   ANN2  1960      1    1  NW Ridge-W Ridge          UK      J. O. M. Roberts         1   \n",
       "1  ANN269301   ANN2  1969      3    1  NW Ridge-W Ridge  Yugoslavia          Ales Kunaver         1   \n",
       "2  ANN273101   ANN2  1973      1    1    W Ridge-N Face       Japan       Yukio Shimamura         1   \n",
       "3  ANN278301   ANN2  1978      3    1    N Face-W Ridge          UK  Richard J. Isherwood         0   \n",
       "4  ANN279301   ANN2  1979      3    1    N Face-W Ridge          UK           Paul Moores         0   \n",
       "\n",
       "  termreason  ...  o2used  o2none  o2climb  o2descent  o2sleep  o2medical  o2taken  agency  comrte  smtmonth  \n",
       "0          1  ...       1       0        1          0        1          0        0       0       0         5  \n",
       "1          1  ...       0       1        0          0        0          0        0       1       0        10  \n",
       "2          1  ...       0       1        0          0        0          0        0       2       0         5  \n",
       "3          4  ...       0       1        0          0        0          0        0       3       0        10  \n",
       "4          4  ...       0       1        0          0        0          0        0       4       0        10  \n",
       "\n",
       "[5 rows x 32 columns]"
      ]
     },
     "execution_count": 491,
     "metadata": {},
     "output_type": "execute_result"
    }
   ],
   "source": [
    "peaks.shape\n",
    "xpd.shape\n",
    "\n",
    "peaks.head()\n",
    "xpd.head()"
   ]
  },
  {
   "cell_type": "code",
   "execution_count": 500,
   "metadata": {},
   "outputs": [
    {
     "data": {
      "text/plain": [
       "(9959, 43)"
      ]
     },
     "execution_count": 500,
     "metadata": {},
     "output_type": "execute_result"
    },
    {
     "data": {
      "text/plain": [
       "NaN       9798\n",
       "1978.0      91\n",
       "2002.0      68\n",
       "20.0         2\n",
       "Name: trekyear, dtype: int64"
      ]
     },
     "execution_count": 500,
     "metadata": {},
     "output_type": "execute_result"
    }
   ],
   "source": [
    "xpd_peak = pd.merge(xpd, peaks, on='peakid')\n",
    "xpd_peak.shape\n",
    "#xpd_peak.loc[2]\n",
    "xpd_peak['trekyear'].value_counts(dropna=False)"
   ]
  },
  {
   "cell_type": "code",
   "execution_count": null,
   "metadata": {},
   "outputs": [],
   "source": []
  },
  {
   "cell_type": "code",
   "execution_count": null,
   "metadata": {},
   "outputs": [],
   "source": []
  },
  {
   "cell_type": "code",
   "execution_count": null,
   "metadata": {
    "scrolled": true
   },
   "outputs": [],
   "source": []
  },
  {
   "cell_type": "code",
   "execution_count": null,
   "metadata": {
    "scrolled": true
   },
   "outputs": [],
   "source": []
  },
  {
   "cell_type": "code",
   "execution_count": null,
   "metadata": {
    "scrolled": true
   },
   "outputs": [],
   "source": []
  },
  {
   "cell_type": "code",
   "execution_count": null,
   "metadata": {
    "scrolled": true
   },
   "outputs": [],
   "source": []
  },
  {
   "cell_type": "code",
   "execution_count": null,
   "metadata": {
    "scrolled": true
   },
   "outputs": [],
   "source": []
  },
  {
   "cell_type": "code",
   "execution_count": null,
   "metadata": {
    "scrolled": true
   },
   "outputs": [],
   "source": []
  },
  {
   "cell_type": "code",
   "execution_count": 710,
   "metadata": {
    "scrolled": true
   },
   "outputs": [
    {
     "data": {
      "text/plain": [
       "(65534, 85)"
      ]
     },
     "execution_count": 710,
     "metadata": {},
     "output_type": "execute_result"
    }
   ],
   "source": [
    "memb = pd.read_csv('members.csv')\n",
    "memb.shape"
   ]
  },
  {
   "cell_type": "code",
   "execution_count": 711,
   "metadata": {
    "scrolled": true
   },
   "outputs": [
    {
     "data": {
      "text/plain": [
       "123456789112345678911234567891123456789112345678911234567891123456789112345678981234567891123456789112345678911234567891"
      ]
     },
     "execution_count": 711,
     "metadata": {},
     "output_type": "execute_result"
    },
    {
     "data": {
      "text/plain": [
       "123456789112345678911234567891123456789112345678911234567891123456789112"
      ]
     },
     "execution_count": 711,
     "metadata": {},
     "output_type": "execute_result"
    }
   ],
   "source": [
    "123456789112345678911234567891123456789112345678911234567891123456789112345678981234567891123456789112345678911234567891\n",
    "123456789112345678911234567891123456789112345678911234567891123456789112"
   ]
  },
  {
   "cell_type": "code",
   "execution_count": null,
   "metadata": {
    "scrolled": true
   },
   "outputs": [],
   "source": []
  },
  {
   "cell_type": "code",
   "execution_count": null,
   "metadata": {
    "scrolled": true
   },
   "outputs": [],
   "source": []
  },
  {
   "cell_type": "code",
   "execution_count": null,
   "metadata": {
    "scrolled": true
   },
   "outputs": [],
   "source": []
  },
  {
   "cell_type": "code",
   "execution_count": null,
   "metadata": {
    "scrolled": true
   },
   "outputs": [],
   "source": []
  },
  {
   "cell_type": "code",
   "execution_count": null,
   "metadata": {
    "scrolled": true
   },
   "outputs": [],
   "source": []
  },
  {
   "cell_type": "code",
   "execution_count": null,
   "metadata": {
    "scrolled": true
   },
   "outputs": [],
   "source": []
  },
  {
   "cell_type": "code",
   "execution_count": null,
   "metadata": {
    "scrolled": true
   },
   "outputs": [],
   "source": []
  },
  {
   "cell_type": "code",
   "execution_count": null,
   "metadata": {
    "scrolled": true
   },
   "outputs": [],
   "source": []
  },
  {
   "cell_type": "code",
   "execution_count": null,
   "metadata": {
    "scrolled": true
   },
   "outputs": [],
   "source": []
  },
  {
   "cell_type": "code",
   "execution_count": null,
   "metadata": {
    "scrolled": true
   },
   "outputs": [],
   "source": []
  },
  {
   "cell_type": "code",
   "execution_count": null,
   "metadata": {
    "scrolled": true
   },
   "outputs": [],
   "source": []
  },
  {
   "cell_type": "code",
   "execution_count": null,
   "metadata": {
    "scrolled": true
   },
   "outputs": [],
   "source": []
  },
  {
   "cell_type": "code",
   "execution_count": null,
   "metadata": {
    "scrolled": true
   },
   "outputs": [],
   "source": []
  },
  {
   "cell_type": "code",
   "execution_count": null,
   "metadata": {
    "scrolled": true
   },
   "outputs": [],
   "source": []
  },
  {
   "cell_type": "code",
   "execution_count": null,
   "metadata": {
    "scrolled": true
   },
   "outputs": [],
   "source": []
  },
  {
   "cell_type": "code",
   "execution_count": null,
   "metadata": {
    "scrolled": true
   },
   "outputs": [],
   "source": []
  },
  {
   "cell_type": "code",
   "execution_count": null,
   "metadata": {
    "scrolled": true
   },
   "outputs": [],
   "source": []
  }
 ],
 "metadata": {
  "kernelspec": {
   "display_name": "Python 3",
   "language": "python",
   "name": "python3"
  },
  "language_info": {
   "codemirror_mode": {
    "name": "ipython",
    "version": 3
   },
   "file_extension": ".py",
   "mimetype": "text/x-python",
   "name": "python",
   "nbconvert_exporter": "python",
   "pygments_lexer": "ipython3",
   "version": "3.7.1"
  }
 },
 "nbformat": 4,
 "nbformat_minor": 2
}
