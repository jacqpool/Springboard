{
 "cells": [
  {
   "cell_type": "markdown",
   "metadata": {},
   "source": [
    "This exercise will require you to pull some data from the Quandl API. Qaundl is currently the most widely used aggregator of financial market data."
   ]
  },
  {
   "cell_type": "markdown",
   "metadata": {},
   "source": [
    "As a first step, you will need to register a free account on the http://www.quandl.com website."
   ]
  },
  {
   "cell_type": "markdown",
   "metadata": {},
   "source": [
    "After you register, you will be provided with a unique API key, that you should store:"
   ]
  },
  {
   "cell_type": "code",
   "execution_count": 799,
   "metadata": {},
   "outputs": [],
   "source": [
    "# Store the API key as a string - according to PEP8, constants are always named \n",
    "# in all upper case.\n",
    "API_KEY = ''"
   ]
  },
  {
   "cell_type": "markdown",
   "metadata": {},
   "source": [
    "Qaundl has a large number of data sources, but, unfortunately, most of them require a Premium subscription. Still, there are also a good number of free datasets."
   ]
  },
  {
   "cell_type": "markdown",
   "metadata": {},
   "source": [
    "For this mini project, we will focus on equities data from the Frankfurt Stock Exhange (FSE), which is available for free. We'll try and analyze the stock prices of a company called Carl Zeiss Meditec, which manufactures tools for eye examinations, as well as medical lasers for laser eye surgery: https://www.zeiss.com/meditec/int/home.html. The company is listed under the stock ticker AFX_X."
   ]
  },
  {
   "cell_type": "markdown",
   "metadata": {},
   "source": [
    "You can find the detailed Quandl API instructions here: https://docs.quandl.com/docs/time-series"
   ]
  },
  {
   "cell_type": "markdown",
   "metadata": {},
   "source": [
    "While there is a dedicated Python package for connecting to the Quandl API, we would prefer that you use the *requests* package, which can be easily downloaded using *pip* or *conda*. You can find the documentation for the package here: http://docs.python-requests.org/en/master/ "
   ]
  },
  {
   "cell_type": "markdown",
   "metadata": {},
   "source": [
    "Finally, apart from the *requests* package, you are encouraged to not use any third party Python packages, such as *pandas*, and instead focus on what's available in the Python Standard Library (the *collections* module might come in handy: https://pymotw.com/3/collections/ ).\n",
    "Also, since you won't have access to DataFrames, you are encouraged to us Python's native data structures - preferably dictionaries, though some questions can also be answered using lists.\n",
    "You can read more on these data structures here: https://docs.python.org/3/tutorial/datastructures.html"
   ]
  },
  {
   "cell_type": "markdown",
   "metadata": {},
   "source": [
    "Keep in mind that the JSON responses you will be getting from the API map almost one-to-one to Python's dictionaries. Unfortunately, they can be very nested, so make sure you read up on indexing dictionaries in the documentation provided above."
   ]
  },
  {
   "cell_type": "code",
   "execution_count": 263,
   "metadata": {},
   "outputs": [],
   "source": [
    "# First, import the relevant modules\n",
    "import requests\n",
    "from collections import defaultdict"
   ]
  },
  {
   "cell_type": "code",
   "execution_count": 264,
   "metadata": {},
   "outputs": [
    {
     "name": "stdout",
     "output_type": "stream",
     "text": [
      "['2019-06-21', None, 88.8, 86.85, 86.9, None, 281537.0, 24608655.0, None, None, None]\n"
     ]
    }
   ],
   "source": [
    "# Now, call the Quandl API and pull out a small sample of the data (only one \n",
    "# day) to get a glimpse into the JSON structure that will be returned.\n",
    "\n",
    "# Add the address string and the API key\n",
    "address = 'https://www.quandl.com/api/v3/datasets/FSE/AFX_X?api_key=' + API_KEY\n",
    "r = requests.get(address)\n",
    "\n",
    "# The JSON data to use\n",
    "json_data = r.json()\n",
    "\n",
    "# Print the column names for context, if needed\n",
    "#print(json_data['dataset']['column_names'])\n",
    "\n",
    "# Show 1 day sample of the data\n",
    "print(json_data['dataset']['data'][0])\n"
   ]
  },
  {
   "cell_type": "code",
   "execution_count": 265,
   "metadata": {},
   "outputs": [
    {
     "name": "stdout",
     "output_type": "stream",
     "text": [
      "dict_keys(['dataset'])\n",
      "dict_keys(['id', 'dataset_code', 'database_code', 'name', 'description', 'refreshed_at', 'newest_available_date', 'oldest_available_date', 'column_names', 'frequency', 'type', 'premium', 'limit', 'transform', 'column_index', 'start_date', 'end_date', 'data', 'collapse', 'order', 'database_id'])\n",
      "['Date', 'Open', 'High', 'Low', 'Close', 'Change', 'Traded Volume', 'Turnover', 'Last Price of the Day', 'Daily Traded Units', 'Daily Turnover']\n",
      "['2019-06-21', None, 88.8, 86.85, 86.9, None, 281537.0, 24608655.0, None, None, None]\n",
      "4901\n"
     ]
    }
   ],
   "source": [
    "# Inspect the JSON structure of the object you created, and take note of how \n",
    "# nested it is, as well as the overall structure\n",
    "\n",
    "# First level\n",
    "print(json_data.keys())\n",
    "\n",
    "# Second level\n",
    "print(json_data['dataset'].keys())\n",
    "\n",
    "# Look at 'dataset' content, it is clear that we need 'column_names' and 'data' \n",
    "# Display without print to get better view layout\n",
    "json_data['dataset']\n",
    "\n",
    "# Column names\n",
    "print(json_data['dataset']['column_names'])\n",
    "\n",
    "# Show 'data'\n",
    "print(json_data['dataset']['data'][0])\n",
    "\n",
    "# The number of entries \n",
    "list_trading = json_data['dataset']['data']\n",
    "print(len(list_trading))"
   ]
  },
  {
   "cell_type": "markdown",
   "metadata": {},
   "source": [
    "These are your tasks for this mini project:\n",
    "\n",
    "1. Collect data from the Franfurt Stock Exchange, for the ticker AFX_X, for the whole year 2017 (keep in mind that the date format is YYYY-MM-DD).\n",
    "2. Convert the returned JSON object into a Python dictionary.\n",
    "3. Calculate what the highest and lowest opening prices were for the stock in this period.\n",
    "4. What was the largest change in any one day (based on High and Low price)?\n",
    "5. What was the largest change between any two days (based on Closing Price)?\n",
    "6. What was the average daily trading volume during this year?\n",
    "7. (Optional) What was the median trading volume during this year. (Note: you may need to implement your own function for calculating the median.)"
   ]
  },
  {
   "cell_type": "code",
   "execution_count": 273,
   "metadata": {},
   "outputs": [
    {
     "name": "stdout",
     "output_type": "stream",
     "text": [
      "First entry: 2017-12-29\n",
      "Last entry: 2017-01-02\n",
      "Number of entries: 255\n"
     ]
    }
   ],
   "source": [
    "# 1. Data for the year 2017\n",
    "\n",
    "# Initialise list and collect all entries from 2017\n",
    "\n",
    "url = 'https://www.quandl.com/api/v3/datasets/FSE/AFX_X?'\n",
    "\n",
    "def query_afx(start_date, end_date, API_KEY):\n",
    "    \"\"\"Produces string query required for the FSE/AFX_X stock prices for date \n",
    "       range start_date to end_date in date format YYYY-MM-DD, for given \n",
    "       key API_KEY.\n",
    "    \"\"\"\n",
    "    \n",
    "    start_date = 'start_date=' + start_date + '&'\n",
    "    end_date = 'end_date=' + end_date + '&' \n",
    "    api_key = 'api_key=' + API_KEY\n",
    "    \n",
    "    return url + start_date + end_date + api_key\n",
    "\n",
    "# Get data for required period as JSON\n",
    "r = requests.get(query_afx('2017-01-01', '2017-12-31', API_KEY))\n",
    "r.status_code\n",
    "json_data = r.json()\n",
    "\n",
    "# See if the new list does start and end with 2017. It should cover from \n",
    "# year-end, to year-start\n",
    "print('First entry:', list_trading_2017[0][0])\n",
    "print('Last entry:', list_trading_2017[-1][0])\n",
    "\n",
    "# Check number of entries\n",
    "print('Number of entries:', len(list_trading_2017))"
   ]
  },
  {
   "cell_type": "code",
   "execution_count": 504,
   "metadata": {},
   "outputs": [],
   "source": [
    "# 2. Convert JSON to dictionary\n",
    "\n",
    "# Use the date as the key\n",
    "# Delete the date from the columns list to zip everything except the date\n",
    "trading_columns = (json_data['dataset']['column_names']).copy()\n",
    "trading_columns.pop(0)\n",
    "\n",
    "# Initialise dictionary\n",
    "dict_trading_2017 = defaultdict(dict)\n",
    "\n",
    "# Dictionary comprehention to assign the date key and zip each day to columns \n",
    "{dict_trading_2017[row[0]].update(dict(zip(trading_columns, row[1:])))\n",
    "    for row in list_trading_2017}\n",
    "\n",
    "# Convert defaultdict object to dictionary\n",
    "dict_trading_2017 = dict(dict_trading_2017)\n",
    "\n",
    "# Check if dictionary\n",
    "assert type(dict_trading_2017) == dict"
   ]
  },
  {
   "cell_type": "code",
   "execution_count": 584,
   "metadata": {},
   "outputs": [
    {
     "name": "stdout",
     "output_type": "stream",
     "text": [
      "Highest : 53.11\n",
      "Lowest : 34.0\n"
     ]
    }
   ],
   "source": [
    "# 3. Calculate highest and lowest opening prices for this stock\n",
    "\n",
    "# Create list of column values where values are not None\n",
    "def column_to_list(dict_name, col_name):\n",
    "    \"\"\"Convert column <col_name> in this dictionary <dict_name> to list where \n",
    "    values are not None\"\"\"\n",
    "    \n",
    "    temp_list = []\n",
    "    column_to_list = [value[col_name] \n",
    "         for key, value in dict_name.items() if value[col_name] is not None]\n",
    "\n",
    "    return column_to_list\n",
    "    \n",
    "# Call col_to_list    \n",
    "col_list = column_to_list(dict_trading_2017, 'Open')\n",
    "    \n",
    "# Show highest and lowest for that column\n",
    "print('Highest :', max(col_list))\n",
    "print('Lowest :', min(col_list))"
   ]
  },
  {
   "cell_type": "code",
   "execution_count": 794,
   "metadata": {},
   "outputs": [
    {
     "name": "stdout",
     "output_type": "stream",
     "text": [
      "Largest change in any one day:  2.8100000000000023\n"
     ]
    }
   ],
   "source": [
    "# 4. What was the largest change in any one day (based on High and Low price)?\n",
    "# Look at the difference between columns 'High' and 'Low'\n",
    "\n",
    "# Convert 'High' and 'Low' to lists first for analysis\n",
    "list_high = column_to_list(dict_trading_2017, 'High')\n",
    "list_low = column_to_list(dict_trading_2017, 'Low')\n",
    "\n",
    "# Check the difference between total dict_trading_2017 entries and High/Low\n",
    "#print('Dictionary entries for dict_trading_2017 :', len(dict_trading_2017))\n",
    "#print('\"High\" values without \"None\" :', len(list_high))\n",
    "#print('\"Low\"\" values without \"None\" :', len(list_low))\n",
    "#print('Thus, no \"None\" values for relevant lists')\n",
    "\n",
    "# Create list with daily change with absolute difference between high/low\n",
    "list_change = [abs(h - l) for h, l in zip(list_high, list_low)]\n",
    "\n",
    "# Max change\n",
    "print('Largest change in any one day: ', max(list_change))"
   ]
  },
  {
   "cell_type": "code",
   "execution_count": 652,
   "metadata": {},
   "outputs": [
    {
     "name": "stdout",
     "output_type": "stream",
     "text": [
      "Largest change: 2.559999999999995\n"
     ]
    }
   ],
   "source": [
    "# 5. What was the largest change between any two days (based on Closing Price)?\n",
    "\n",
    "# Get a list of the 'Close' values\n",
    "list_close = column_to_list(dict_trading_2017, 'Close')\n",
    "\n",
    "# Get the absolute difference between 1st and 2nd row, delete 1st row, repeat,\n",
    "# save in list\n",
    "list_change = []\n",
    "while len(list_close) > 1:\n",
    "    list_change.append(abs(list_close[0] - list_close[1]))\n",
    "    list_close.pop(0)\n",
    "\n",
    "# Print the largest change\n",
    "print('Largest change:', max(list_change))"
   ]
  },
  {
   "cell_type": "code",
   "execution_count": 675,
   "metadata": {},
   "outputs": [
    {
     "name": "stdout",
     "output_type": "stream",
     "text": [
      "Average Daily Traded Volume: 89124.33725490196\n"
     ]
    }
   ],
   "source": [
    "# 6. Average daily trading volume during this year.\n",
    "\n",
    "# Get a list of 'Traded Volume' values\n",
    "list_volume = column_to_list(dict_trading_2017, 'Traded Volume')\n",
    "\n",
    "# Calculate the average\n",
    "volume_average = sum(list_volume) / len(list_volume)\n",
    "print('Average Daily Traded Volume:', volume_average)"
   ]
  },
  {
   "cell_type": "code",
   "execution_count": 798,
   "metadata": {},
   "outputs": [
    {
     "name": "stdout",
     "output_type": "stream",
     "text": [
      "Median trading volume: 89752.0\n"
     ]
    }
   ],
   "source": [
    "# 7. Median trading volume during this year.\n",
    "\n",
    "def median_idx_from_list(list_name):\n",
    "    \"\"\"Determine the index for the median value. \n",
    "    \n",
    "       Do this by calculating the sum from the first entry in the list, until \n",
    "       the cumulative value equals half the total trading volume. That index\n",
    "       'idx' is the median index.\n",
    "    \"\"\"\n",
    "    # The sum of all trading volumes (each day)\n",
    "    sum_total = sum(list_name)\n",
    "    idx = 1\n",
    "    sum_left = 0\n",
    "    while sum_left < (sum_total / 2):\n",
    "        sum_left = sum(list_name[:idx])\n",
    "        idx += 1\n",
    "    \n",
    "    return idx\n",
    "\n",
    "idx = median_idx_from_list(list_volume)\n",
    "\n",
    "# Show volume value for that index 'idx'\n",
    "print('Median trading volume:', list_volume[idx])"
   ]
  }
 ],
 "metadata": {
  "kernelspec": {
   "display_name": "Python 3",
   "language": "python",
   "name": "python3"
  },
  "language_info": {
   "codemirror_mode": {
    "name": "ipython",
    "version": 3
   },
   "file_extension": ".py",
   "mimetype": "text/x-python",
   "name": "python",
   "nbconvert_exporter": "python",
   "pygments_lexer": "ipython3",
   "version": "3.7.1"
  }
 },
 "nbformat": 4,
 "nbformat_minor": 2
}
